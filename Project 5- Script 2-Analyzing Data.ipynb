{
 "cells": [
  {
   "cell_type": "markdown",
   "metadata": {
    "toc": true
   },
   "source": [
    "<h1>Table of Contents<span class=\"tocSkip\"></span></h1>\n",
    "<div class=\"toc\"><ul class=\"toc-item\"><li><span><a href=\"#Task2:-Analyze-data\" data-toc-modified-id=\"Task2:-Analyze-data-1\">Task2: Analyze data</a></span><ul class=\"toc-item\"><li><span><a href=\"#2.1:-Central-tendency-and-Dispersion:-Customer's-age-distribution\" data-toc-modified-id=\"2.1:-Central-tendency-and-Dispersion:-Customer's-age-distribution-1.1\">2.1: Central tendency and Dispersion: Customer's age distribution</a></span></li><li><span><a href=\"#2.2:-Concentration-analysis-:Lorenz-Curve-and-Gini-coefficient---customer's-age\" data-toc-modified-id=\"2.2:-Concentration-analysis-:Lorenz-Curve-and-Gini-coefficient---customer's-age-1.2\">2.2: Concentration analysis :Lorenz Curve and Gini coefficient - customer's age</a></span></li><li><span><a href=\"#2.3:-Graphic-representations\" data-toc-modified-id=\"2.3:-Graphic-representations-1.3\">2.3: Graphic representations</a></span><ul class=\"toc-item\"><li><span><a href=\"#2.3.1:-Boxplot-Product-Category-VS-Price---purpose:-to-check-price-range-per-product-category\" data-toc-modified-id=\"2.3.1:-Boxplot-Product-Category-VS-Price---purpose:-to-check-price-range-per-product-category-1.3.1\">2.3.1: Boxplot Product Category VS Price - purpose: to check price range per product category</a></span></li><li><span><a href=\"#2.3.2:-Times-series-Month-VS-Transaction-Amount\" data-toc-modified-id=\"2.3.2:-Times-series-Month-VS-Transaction-Amount-1.3.2\">2.3.2: Times series Month VS Transaction Amount</a></span></li><li><span><a href=\"#2.3.3:-Bivariate-Analysis-Visualzation:-Age-VS-Average-Price-of-item-purchased---Scatter-Plot\" data-toc-modified-id=\"2.3.3:-Bivariate-Analysis-Visualzation:-Age-VS-Average-Price-of-item-purchased---Scatter-Plot-1.3.3\">2.3.3: Bivariate Analysis Visualzation: Age VS Average Price of item purchased - Scatter Plot</a></span></li><li><span><a href=\"#2.3.4:-Pice-chart-for-Product-Category\" data-toc-modified-id=\"2.3.4:-Pice-chart-for-Product-Category-1.3.4\">2.3.4: Pice chart for Product Category</a></span></li></ul></li></ul></li><li><span><a href=\"#Task3:-Correlations---visualizations-and-calculation\" data-toc-modified-id=\"Task3:-Correlations---visualizations-and-calculation-2\">Task3: Correlations - visualizations and calculation</a></span><ul class=\"toc-item\"><li><span><a href=\"#3.1:Correlation-Gender-VS-Categories-of-Products\" data-toc-modified-id=\"3.1:Correlation-Gender-VS-Categories-of-Products-2.1\">3.1:Correlation Gender VS Categories of Products</a></span></li><li><span><a href=\"#3.2:-Correlation-Age-VS-Total-Amount-Purchase\" data-toc-modified-id=\"3.2:-Correlation-Age-VS-Total-Amount-Purchase-2.2\">3.2: Correlation Age VS Total Amount Purchase</a></span></li><li><span><a href=\"#3.3:-Correlaton-Age-VS-Purchase-Frequency\" data-toc-modified-id=\"3.3:-Correlaton-Age-VS-Purchase-Frequency-2.3\">3.3: Correlaton Age VS Purchase Frequency</a></span></li><li><span><a href=\"#3.4-Correlation-Age-VS-Avergage-basket-size(in-number-of-items)\" data-toc-modified-id=\"3.4-Correlation-Age-VS-Avergage-basket-size(in-number-of-items)-2.4\">3.4 Correlation Age VS Avergage basket size(in number of items)</a></span></li><li><span><a href=\"#3.5-Correlation-Age-VS-Category-of-purchase-produducts\" data-toc-modified-id=\"3.5-Correlation-Age-VS-Category-of-purchase-produducts-2.5\">3.5 Correlation Age VS Category of purchase produducts</a></span></li></ul></li></ul></div>"
   ]
  },
  {
   "cell_type": "markdown",
   "metadata": {},
   "source": [
    "* First import packages needed & load CSV files that were cleaned previously in other file."
   ]
  },
  {
   "cell_type": "code",
   "execution_count": 1,
   "metadata": {},
   "outputs": [],
   "source": [
    "import pandas as pd\n",
    "import numpy as np\n",
    "import matplotlib.pyplot as plt\n",
    "import seaborn as sns\n",
    "\n",
    "customers=pd.read_csv('customers_cleaned.csv')\n",
    "products=pd.read_csv('products_cleaned.csv')\n",
    "transactions=pd.read_csv('transactions_cleaned.csv')\n",
    "\n"
   ]
  },
  {
   "cell_type": "markdown",
   "metadata": {},
   "source": [
    "* Display head of customers, products, transactions data frame to see what are the information included in each dataframe and brain storm idea how to assemble them later on."
   ]
  },
  {
   "cell_type": "code",
   "execution_count": 2,
   "metadata": {},
   "outputs": [
    {
     "data": {
      "text/html": [
       "<div>\n",
       "<style scoped>\n",
       "    .dataframe tbody tr th:only-of-type {\n",
       "        vertical-align: middle;\n",
       "    }\n",
       "\n",
       "    .dataframe tbody tr th {\n",
       "        vertical-align: top;\n",
       "    }\n",
       "\n",
       "    .dataframe thead th {\n",
       "        text-align: right;\n",
       "    }\n",
       "</style>\n",
       "<table border=\"1\" class=\"dataframe\">\n",
       "  <thead>\n",
       "    <tr style=\"text-align: right;\">\n",
       "      <th></th>\n",
       "      <th>Unnamed: 0</th>\n",
       "      <th>client_id</th>\n",
       "      <th>sex</th>\n",
       "      <th>birth</th>\n",
       "      <th>year</th>\n",
       "      <th>age</th>\n",
       "    </tr>\n",
       "  </thead>\n",
       "  <tbody>\n",
       "    <tr>\n",
       "      <td>0</td>\n",
       "      <td>0</td>\n",
       "      <td>c_4410</td>\n",
       "      <td>f</td>\n",
       "      <td>1967</td>\n",
       "      <td>2021</td>\n",
       "      <td>54</td>\n",
       "    </tr>\n",
       "    <tr>\n",
       "      <td>1</td>\n",
       "      <td>1</td>\n",
       "      <td>c_7839</td>\n",
       "      <td>f</td>\n",
       "      <td>1975</td>\n",
       "      <td>2021</td>\n",
       "      <td>46</td>\n",
       "    </tr>\n",
       "    <tr>\n",
       "      <td>2</td>\n",
       "      <td>2</td>\n",
       "      <td>c_1699</td>\n",
       "      <td>f</td>\n",
       "      <td>1984</td>\n",
       "      <td>2021</td>\n",
       "      <td>37</td>\n",
       "    </tr>\n",
       "    <tr>\n",
       "      <td>3</td>\n",
       "      <td>3</td>\n",
       "      <td>c_5961</td>\n",
       "      <td>f</td>\n",
       "      <td>1962</td>\n",
       "      <td>2021</td>\n",
       "      <td>59</td>\n",
       "    </tr>\n",
       "    <tr>\n",
       "      <td>4</td>\n",
       "      <td>4</td>\n",
       "      <td>c_5320</td>\n",
       "      <td>m</td>\n",
       "      <td>1943</td>\n",
       "      <td>2021</td>\n",
       "      <td>78</td>\n",
       "    </tr>\n",
       "  </tbody>\n",
       "</table>\n",
       "</div>"
      ],
      "text/plain": [
       "   Unnamed: 0 client_id sex  birth  year  age\n",
       "0           0    c_4410   f   1967  2021   54\n",
       "1           1    c_7839   f   1975  2021   46\n",
       "2           2    c_1699   f   1984  2021   37\n",
       "3           3    c_5961   f   1962  2021   59\n",
       "4           4    c_5320   m   1943  2021   78"
      ]
     },
     "execution_count": 2,
     "metadata": {},
     "output_type": "execute_result"
    }
   ],
   "source": [
    "customers.head()"
   ]
  },
  {
   "cell_type": "code",
   "execution_count": 3,
   "metadata": {},
   "outputs": [
    {
     "data": {
      "text/html": [
       "<div>\n",
       "<style scoped>\n",
       "    .dataframe tbody tr th:only-of-type {\n",
       "        vertical-align: middle;\n",
       "    }\n",
       "\n",
       "    .dataframe tbody tr th {\n",
       "        vertical-align: top;\n",
       "    }\n",
       "\n",
       "    .dataframe thead th {\n",
       "        text-align: right;\n",
       "    }\n",
       "</style>\n",
       "<table border=\"1\" class=\"dataframe\">\n",
       "  <thead>\n",
       "    <tr style=\"text-align: right;\">\n",
       "      <th></th>\n",
       "      <th>Unnamed: 0</th>\n",
       "      <th>id_prod</th>\n",
       "      <th>price</th>\n",
       "      <th>categ</th>\n",
       "    </tr>\n",
       "  </thead>\n",
       "  <tbody>\n",
       "    <tr>\n",
       "      <td>0</td>\n",
       "      <td>0</td>\n",
       "      <td>0_1421</td>\n",
       "      <td>19.99</td>\n",
       "      <td>0</td>\n",
       "    </tr>\n",
       "    <tr>\n",
       "      <td>1</td>\n",
       "      <td>1</td>\n",
       "      <td>0_1368</td>\n",
       "      <td>5.13</td>\n",
       "      <td>0</td>\n",
       "    </tr>\n",
       "    <tr>\n",
       "      <td>2</td>\n",
       "      <td>2</td>\n",
       "      <td>0_731</td>\n",
       "      <td>17.99</td>\n",
       "      <td>0</td>\n",
       "    </tr>\n",
       "    <tr>\n",
       "      <td>3</td>\n",
       "      <td>3</td>\n",
       "      <td>1_587</td>\n",
       "      <td>4.99</td>\n",
       "      <td>1</td>\n",
       "    </tr>\n",
       "    <tr>\n",
       "      <td>4</td>\n",
       "      <td>4</td>\n",
       "      <td>0_1507</td>\n",
       "      <td>3.99</td>\n",
       "      <td>0</td>\n",
       "    </tr>\n",
       "  </tbody>\n",
       "</table>\n",
       "</div>"
      ],
      "text/plain": [
       "   Unnamed: 0 id_prod  price  categ\n",
       "0           0  0_1421  19.99      0\n",
       "1           1  0_1368   5.13      0\n",
       "2           2   0_731  17.99      0\n",
       "3           3   1_587   4.99      1\n",
       "4           4  0_1507   3.99      0"
      ]
     },
     "execution_count": 3,
     "metadata": {},
     "output_type": "execute_result"
    }
   ],
   "source": [
    "products.head()"
   ]
  },
  {
   "cell_type": "code",
   "execution_count": 4,
   "metadata": {},
   "outputs": [
    {
     "data": {
      "text/html": [
       "<div>\n",
       "<style scoped>\n",
       "    .dataframe tbody tr th:only-of-type {\n",
       "        vertical-align: middle;\n",
       "    }\n",
       "\n",
       "    .dataframe tbody tr th {\n",
       "        vertical-align: top;\n",
       "    }\n",
       "\n",
       "    .dataframe thead th {\n",
       "        text-align: right;\n",
       "    }\n",
       "</style>\n",
       "<table border=\"1\" class=\"dataframe\">\n",
       "  <thead>\n",
       "    <tr style=\"text-align: right;\">\n",
       "      <th></th>\n",
       "      <th>Unnamed: 0</th>\n",
       "      <th>id_prod</th>\n",
       "      <th>date</th>\n",
       "      <th>session_id</th>\n",
       "      <th>client_id</th>\n",
       "      <th>month</th>\n",
       "      <th>day</th>\n",
       "    </tr>\n",
       "  </thead>\n",
       "  <tbody>\n",
       "    <tr>\n",
       "      <td>0</td>\n",
       "      <td>0</td>\n",
       "      <td>0_1483</td>\n",
       "      <td>2021-04-10 18:37:28.723910</td>\n",
       "      <td>s_18746</td>\n",
       "      <td>c_4450</td>\n",
       "      <td>4</td>\n",
       "      <td>10</td>\n",
       "    </tr>\n",
       "    <tr>\n",
       "      <td>1</td>\n",
       "      <td>1</td>\n",
       "      <td>2_226</td>\n",
       "      <td>2022-02-03 01:55:53.276402</td>\n",
       "      <td>s_159142</td>\n",
       "      <td>c_277</td>\n",
       "      <td>2</td>\n",
       "      <td>3</td>\n",
       "    </tr>\n",
       "    <tr>\n",
       "      <td>2</td>\n",
       "      <td>2</td>\n",
       "      <td>1_374</td>\n",
       "      <td>2021-09-23 15:13:46.938559</td>\n",
       "      <td>s_94290</td>\n",
       "      <td>c_4270</td>\n",
       "      <td>9</td>\n",
       "      <td>23</td>\n",
       "    </tr>\n",
       "    <tr>\n",
       "      <td>3</td>\n",
       "      <td>3</td>\n",
       "      <td>0_2186</td>\n",
       "      <td>2021-10-17 03:27:18.783634</td>\n",
       "      <td>s_105936</td>\n",
       "      <td>c_4597</td>\n",
       "      <td>10</td>\n",
       "      <td>17</td>\n",
       "    </tr>\n",
       "    <tr>\n",
       "      <td>4</td>\n",
       "      <td>4</td>\n",
       "      <td>0_1351</td>\n",
       "      <td>2021-07-17 20:34:25.800563</td>\n",
       "      <td>s_63642</td>\n",
       "      <td>c_1242</td>\n",
       "      <td>7</td>\n",
       "      <td>17</td>\n",
       "    </tr>\n",
       "  </tbody>\n",
       "</table>\n",
       "</div>"
      ],
      "text/plain": [
       "   Unnamed: 0 id_prod                        date session_id client_id  month  \\\n",
       "0           0  0_1483  2021-04-10 18:37:28.723910    s_18746    c_4450      4   \n",
       "1           1   2_226  2022-02-03 01:55:53.276402   s_159142     c_277      2   \n",
       "2           2   1_374  2021-09-23 15:13:46.938559    s_94290    c_4270      9   \n",
       "3           3  0_2186  2021-10-17 03:27:18.783634   s_105936    c_4597     10   \n",
       "4           4  0_1351  2021-07-17 20:34:25.800563    s_63642    c_1242      7   \n",
       "\n",
       "   day  \n",
       "0   10  \n",
       "1    3  \n",
       "2   23  \n",
       "3   17  \n",
       "4   17  "
      ]
     },
     "execution_count": 4,
     "metadata": {},
     "output_type": "execute_result"
    }
   ],
   "source": [
    "transactions.head()"
   ]
  },
  {
   "cell_type": "markdown",
   "metadata": {},
   "source": [
    "# Task2: Analyze data \n"
   ]
  },
  {
   "cell_type": "markdown",
   "metadata": {},
   "source": [
    "* Visualization of data in various perspectives. \n",
    "\n",
    "1.Analysis on Customers age: to check central tendency of customer's age using histogram, visualization lorenzo curve and calculate gini coefficient. if we have high gini coefficient that means we have uneven distribution in customer's age \\\n",
    "2.Bivariate analysis on product category VS product price: to check price variance of each product category using boxplot\\   \n",
    "** More visualziation on bivraite analysis is coming on Task 3.\n",
    "3.Time series visualization: to see purchase trend over months\\\n",
    "4.Pie chart on product category: to see product distribution"
   ]
  },
  {
   "cell_type": "markdown",
   "metadata": {},
   "source": [
    "## 2.1: Central tendency and Dispersion: Customer's age distribution"
   ]
  },
  {
   "cell_type": "markdown",
   "metadata": {},
   "source": [
    "* Purpose: to check central tendency of customer's age\n",
    "* Variable: customer's age\n",
    "* Method used: histogram and gifi coefficient calculation"
   ]
  },
  {
   "cell_type": "code",
   "execution_count": 5,
   "metadata": {},
   "outputs": [
    {
     "data": {
      "image/png": "[encoded data removed]",
      "text/plain": [
       "<Figure size 432x288 with 1 Axes>"
      ]
     },
     "metadata": {
      "needs_background": "light"
     },
     "output_type": "display_data"
    }
   ],
   "source": [
    "plt.hist(customers.age, bins = 10)\n",
    "plt.axvline(customers.age.mean(), color='k', linestyle='dashed', linewidth=1)\n",
    "min_ylim, max_ylim = plt.ylim()\n",
    "plt.text(customers.age.mean()*1.1, max_ylim*0.9, 'Mean: {:.2f}'.format(customers.age.mean()))\n",
    "plt.xlabel('Customer Age')\n",
    "plt.savefig('Customer Age Histogram.png')"
   ]
  },
  {
   "cell_type": "markdown",
   "metadata": {},
   "source": [
    "## 2.2: Concentration analysis :Lorenz Curve and Gini coefficient - customer's age"
   ]
  },
  {
   "cell_type": "markdown",
   "metadata": {},
   "source": [
    "* Purpose: to quantify customer's age concentration\n",
    "* Variable: customer's age\n",
    "* Method used: Lorenz Curve and Gini coefficient formula"
   ]
  },
  {
   "cell_type": "code",
   "execution_count": 6,
   "metadata": {},
   "outputs": [
    {
     "data": {
      "text/html": [
       "<div>\n",
       "<style scoped>\n",
       "    .dataframe tbody tr th:only-of-type {\n",
       "        vertical-align: middle;\n",
       "    }\n",
       "\n",
       "    .dataframe tbody tr th {\n",
       "        vertical-align: top;\n",
       "    }\n",
       "\n",
       "    .dataframe thead th {\n",
       "        text-align: right;\n",
       "    }\n",
       "</style>\n",
       "<table border=\"1\" class=\"dataframe\">\n",
       "  <thead>\n",
       "    <tr style=\"text-align: right;\">\n",
       "      <th></th>\n",
       "      <th>Unnamed: 0</th>\n",
       "      <th>client_id</th>\n",
       "      <th>sex</th>\n",
       "      <th>birth</th>\n",
       "      <th>year</th>\n",
       "      <th>age</th>\n",
       "    </tr>\n",
       "  </thead>\n",
       "  <tbody>\n",
       "    <tr>\n",
       "      <td>0</td>\n",
       "      <td>0</td>\n",
       "      <td>c_4410</td>\n",
       "      <td>f</td>\n",
       "      <td>1967</td>\n",
       "      <td>2021</td>\n",
       "      <td>54</td>\n",
       "    </tr>\n",
       "    <tr>\n",
       "      <td>1</td>\n",
       "      <td>1</td>\n",
       "      <td>c_7839</td>\n",
       "      <td>f</td>\n",
       "      <td>1975</td>\n",
       "      <td>2021</td>\n",
       "      <td>46</td>\n",
       "    </tr>\n",
       "    <tr>\n",
       "      <td>2</td>\n",
       "      <td>2</td>\n",
       "      <td>c_1699</td>\n",
       "      <td>f</td>\n",
       "      <td>1984</td>\n",
       "      <td>2021</td>\n",
       "      <td>37</td>\n",
       "    </tr>\n",
       "    <tr>\n",
       "      <td>3</td>\n",
       "      <td>3</td>\n",
       "      <td>c_5961</td>\n",
       "      <td>f</td>\n",
       "      <td>1962</td>\n",
       "      <td>2021</td>\n",
       "      <td>59</td>\n",
       "    </tr>\n",
       "    <tr>\n",
       "      <td>4</td>\n",
       "      <td>4</td>\n",
       "      <td>c_5320</td>\n",
       "      <td>m</td>\n",
       "      <td>1943</td>\n",
       "      <td>2021</td>\n",
       "      <td>78</td>\n",
       "    </tr>\n",
       "  </tbody>\n",
       "</table>\n",
       "</div>"
      ],
      "text/plain": [
       "   Unnamed: 0 client_id sex  birth  year  age\n",
       "0           0    c_4410   f   1967  2021   54\n",
       "1           1    c_7839   f   1975  2021   46\n",
       "2           2    c_1699   f   1984  2021   37\n",
       "3           3    c_5961   f   1962  2021   59\n",
       "4           4    c_5320   m   1943  2021   78"
      ]
     },
     "execution_count": 6,
     "metadata": {},
     "output_type": "execute_result"
    }
   ],
   "source": [
    "## initial exploration on customers dataframe\n",
    "customers.head()"
   ]
  },
  {
   "cell_type": "code",
   "execution_count": 7,
   "metadata": {},
   "outputs": [
    {
     "data": {
      "image/png": "[encoded data removed]",
      "text/plain": [
       "<Figure size 432x288 with 1 Axes>"
      ]
     },
     "metadata": {
      "needs_background": "light"
     },
     "output_type": "display_data"
    },
    {
     "data": {
      "text/plain": [
       "<Figure size 432x288 with 0 Axes>"
      ]
     },
     "metadata": {},
     "output_type": "display_data"
    }
   ],
   "source": [
    "ages = customers.iloc[:,5]\n",
    "age = ages.values\n",
    "n = len(age)\n",
    "lorenz = np.cumsum(np.sort(age)) / age.sum()\n",
    "lorenz = np.append([0],lorenz) # The Lorenz Curve begins at 0\n",
    "\n",
    "\n",
    "plt.axes().axis('equal')\n",
    "xaxis = np.linspace(0-1/n,1+1/n,n+1) # There is 1 segment (of size n) for each individual, plus 1 segment at y=0. The first segment starts at 0-1/n and the last one finishes at 1+1/n\n",
    "plt.plot(xaxis,lorenz,drawstyle='steps-post')\n",
    "plt.title('GINI Coefficient Graph on Customer Age')\n",
    "plt.show()\n",
    "plt.savefig('GINI Coefficient Graph on Customer Age.png')"
   ]
  },
  {
   "cell_type": "code",
   "execution_count": 8,
   "metadata": {},
   "outputs": [
    {
     "name": "stdout",
     "output_type": "stream",
     "text": [
      "gini is 0.22594000556853144\n"
     ]
    }
   ],
   "source": [
    "AUC = (lorenz.sum() -lorenz[-1]/2 -lorenz[0]/2)/n # area under the Lorenz Curve. The first segment (lorenz[0]) is halfly below O, so we divide it by 2. We do the same for the mast segment lorenz[-1]\n",
    "S = 0.5 - AUC # area between 1st bisector and the Lorenz Curve\n",
    "gini = 2*S\n",
    "print(\"gini is \"+str(gini))"
   ]
  },
  {
   "cell_type": "code",
   "execution_count": 9,
   "metadata": {},
   "outputs": [],
   "source": [
    "arr = ages.to_numpy()\n",
    "arr\n",
    "def gini(arr):\n",
    "    ## first sort\n",
    "    sorted_arr = arr.copy()\n",
    "    sorted_arr.sort()\n",
    "    n = arr.size\n",
    "    coef_ = 2. / n\n",
    "    const_ = (n + 1.) / n\n",
    "    weighted_sum = sum([(i+1)*yi for i, yi in enumerate(sorted_arr)])\n",
    "    return coef_*weighted_sum/(sorted_arr.sum()) - const_"
   ]
  },
  {
   "cell_type": "code",
   "execution_count": 10,
   "metadata": {},
   "outputs": [
    {
     "data": {
      "text/plain": [
       "0.22594000556853144"
      ]
     },
     "execution_count": 10,
     "metadata": {},
     "output_type": "execute_result"
    }
   ],
   "source": [
    "gini(arr)"
   ]
  },
  {
   "cell_type": "code",
   "execution_count": 11,
   "metadata": {},
   "outputs": [
    {
     "name": "stdout",
     "output_type": "stream",
     "text": [
      "based on Gini result we could say that age group distribution have low inequality, as it is closer to 0 than 1 (and below 0.4)\n"
     ]
    }
   ],
   "source": [
    "print(\"based on Gini result we could say that age group distribution have low inequality, as it is closer to 0 than 1 (and below 0.4)\")"
   ]
  },
  {
   "cell_type": "markdown",
   "metadata": {},
   "source": [
    "## 2.3: Graphic representations"
   ]
  },
  {
   "cell_type": "markdown",
   "metadata": {},
   "source": [
    "### 2.3.1: Boxplot Product Category VS Price - purpose: to check price range per product category"
   ]
  },
  {
   "cell_type": "markdown",
   "metadata": {},
   "source": [
    "* Purpose: to check out price range of each product \n",
    "* Variable: category and price in products data frame\n",
    "* Method used: boxplot"
   ]
  },
  {
   "cell_type": "code",
   "execution_count": 12,
   "metadata": {},
   "outputs": [],
   "source": [
    "#products.boxplot(by ='categ', column =['price'],showfliers=False, widths=(0.5, 0.5,0.5)) \n",
    "#plt.savefig('Box Plot for Prodct Category VS Price Range.png')\n",
    "# product category 2 has the highest mean price\n",
    "\n"
   ]
  },
  {
   "cell_type": "code",
   "execution_count": 13,
   "metadata": {},
   "outputs": [
    {
     "data": {
      "image/png": "[encoded data removed]",
      "text/plain": [
       "<Figure size 432x288 with 1 Axes>"
      ]
     },
     "metadata": {
      "needs_background": "light"
     },
     "output_type": "display_data"
    },
    {
     "data": {
      "text/plain": [
       "<Figure size 432x288 with 0 Axes>"
      ]
     },
     "metadata": {},
     "output_type": "display_data"
    }
   ],
   "source": [
    "ax = sns.boxplot(x=\"categ\", y=\"price\", data=products)\n",
    "plt.xlabel(\"Product Category\")\n",
    "plt.ylabel(\"Price Range\")\n",
    "plt.show()\n",
    "plt.savefig('Box Plot for Prodct Category VS Price Range.png')\n",
    "# product category 2 has the highest mean price"
   ]
  },
  {
   "cell_type": "code",
   "execution_count": 14,
   "metadata": {},
   "outputs": [
    {
     "name": "stdout",
     "output_type": "stream",
     "text": [
      "We could say that product category is the most expensive one\n"
     ]
    }
   ],
   "source": [
    "print(\"We could say that product category is the most expensive one\")"
   ]
  },
  {
   "cell_type": "markdown",
   "metadata": {},
   "source": [
    "### 2.3.2: Times series Month VS Transaction Amount"
   ]
  },
  {
   "cell_type": "markdown",
   "metadata": {},
   "source": [
    "* Purpose: to see total sales transaction amount trend over time, per month \n",
    "* Variable: month and session_id in transactions dataframe\n",
    "* Method used: merge transactions and products dataframe to get price, and afer plt time series visualization"
   ]
  },
  {
   "cell_type": "code",
   "execution_count": 15,
   "metadata": {},
   "outputs": [
    {
     "data": {
      "text/html": [
       "<div>\n",
       "<style scoped>\n",
       "    .dataframe tbody tr th:only-of-type {\n",
       "        vertical-align: middle;\n",
       "    }\n",
       "\n",
       "    .dataframe tbody tr th {\n",
       "        vertical-align: top;\n",
       "    }\n",
       "\n",
       "    .dataframe thead th {\n",
       "        text-align: right;\n",
       "    }\n",
       "</style>\n",
       "<table border=\"1\" class=\"dataframe\">\n",
       "  <thead>\n",
       "    <tr style=\"text-align: right;\">\n",
       "      <th></th>\n",
       "      <th>Unnamed: 0</th>\n",
       "      <th>id_prod</th>\n",
       "      <th>date</th>\n",
       "      <th>session_id</th>\n",
       "      <th>client_id</th>\n",
       "      <th>month</th>\n",
       "      <th>day</th>\n",
       "    </tr>\n",
       "  </thead>\n",
       "  <tbody>\n",
       "    <tr>\n",
       "      <td>0</td>\n",
       "      <td>0</td>\n",
       "      <td>0_1483</td>\n",
       "      <td>2021-04-10 18:37:28.723910</td>\n",
       "      <td>s_18746</td>\n",
       "      <td>c_4450</td>\n",
       "      <td>4</td>\n",
       "      <td>10</td>\n",
       "    </tr>\n",
       "    <tr>\n",
       "      <td>1</td>\n",
       "      <td>1</td>\n",
       "      <td>2_226</td>\n",
       "      <td>2022-02-03 01:55:53.276402</td>\n",
       "      <td>s_159142</td>\n",
       "      <td>c_277</td>\n",
       "      <td>2</td>\n",
       "      <td>3</td>\n",
       "    </tr>\n",
       "    <tr>\n",
       "      <td>2</td>\n",
       "      <td>2</td>\n",
       "      <td>1_374</td>\n",
       "      <td>2021-09-23 15:13:46.938559</td>\n",
       "      <td>s_94290</td>\n",
       "      <td>c_4270</td>\n",
       "      <td>9</td>\n",
       "      <td>23</td>\n",
       "    </tr>\n",
       "    <tr>\n",
       "      <td>3</td>\n",
       "      <td>3</td>\n",
       "      <td>0_2186</td>\n",
       "      <td>2021-10-17 03:27:18.783634</td>\n",
       "      <td>s_105936</td>\n",
       "      <td>c_4597</td>\n",
       "      <td>10</td>\n",
       "      <td>17</td>\n",
       "    </tr>\n",
       "    <tr>\n",
       "      <td>4</td>\n",
       "      <td>4</td>\n",
       "      <td>0_1351</td>\n",
       "      <td>2021-07-17 20:34:25.800563</td>\n",
       "      <td>s_63642</td>\n",
       "      <td>c_1242</td>\n",
       "      <td>7</td>\n",
       "      <td>17</td>\n",
       "    </tr>\n",
       "  </tbody>\n",
       "</table>\n",
       "</div>"
      ],
      "text/plain": [
       "   Unnamed: 0 id_prod                        date session_id client_id  month  \\\n",
       "0           0  0_1483  2021-04-10 18:37:28.723910    s_18746    c_4450      4   \n",
       "1           1   2_226  2022-02-03 01:55:53.276402   s_159142     c_277      2   \n",
       "2           2   1_374  2021-09-23 15:13:46.938559    s_94290    c_4270      9   \n",
       "3           3  0_2186  2021-10-17 03:27:18.783634   s_105936    c_4597     10   \n",
       "4           4  0_1351  2021-07-17 20:34:25.800563    s_63642    c_1242      7   \n",
       "\n",
       "   day  \n",
       "0   10  \n",
       "1    3  \n",
       "2   23  \n",
       "3   17  \n",
       "4   17  "
      ]
     },
     "execution_count": 15,
     "metadata": {},
     "output_type": "execute_result"
    }
   ],
   "source": [
    "## initial overview of transactions dataframe\n",
    "transactions.head()"
   ]
  },
  {
   "cell_type": "code",
   "execution_count": 16,
   "metadata": {},
   "outputs": [
    {
     "data": {
      "text/html": [
       "<div>\n",
       "<style scoped>\n",
       "    .dataframe tbody tr th:only-of-type {\n",
       "        vertical-align: middle;\n",
       "    }\n",
       "\n",
       "    .dataframe tbody tr th {\n",
       "        vertical-align: top;\n",
       "    }\n",
       "\n",
       "    .dataframe thead th {\n",
       "        text-align: right;\n",
       "    }\n",
       "</style>\n",
       "<table border=\"1\" class=\"dataframe\">\n",
       "  <thead>\n",
       "    <tr style=\"text-align: right;\">\n",
       "      <th></th>\n",
       "      <th>Unnamed: 0_x</th>\n",
       "      <th>id_prod</th>\n",
       "      <th>date</th>\n",
       "      <th>session_id</th>\n",
       "      <th>client_id</th>\n",
       "      <th>month</th>\n",
       "      <th>day</th>\n",
       "      <th>Unnamed: 0_y</th>\n",
       "      <th>price</th>\n",
       "      <th>categ</th>\n",
       "    </tr>\n",
       "  </thead>\n",
       "  <tbody>\n",
       "    <tr>\n",
       "      <td>0</td>\n",
       "      <td>0</td>\n",
       "      <td>0_1483</td>\n",
       "      <td>2021-04-10 18:37:28.723910</td>\n",
       "      <td>s_18746</td>\n",
       "      <td>c_4450</td>\n",
       "      <td>4</td>\n",
       "      <td>10</td>\n",
       "      <td>1897.0</td>\n",
       "      <td>4.99</td>\n",
       "      <td>0.0</td>\n",
       "    </tr>\n",
       "    <tr>\n",
       "      <td>1</td>\n",
       "      <td>1</td>\n",
       "      <td>2_226</td>\n",
       "      <td>2022-02-03 01:55:53.276402</td>\n",
       "      <td>s_159142</td>\n",
       "      <td>c_277</td>\n",
       "      <td>2</td>\n",
       "      <td>3</td>\n",
       "      <td>289.0</td>\n",
       "      <td>65.75</td>\n",
       "      <td>2.0</td>\n",
       "    </tr>\n",
       "    <tr>\n",
       "      <td>2</td>\n",
       "      <td>2</td>\n",
       "      <td>1_374</td>\n",
       "      <td>2021-09-23 15:13:46.938559</td>\n",
       "      <td>s_94290</td>\n",
       "      <td>c_4270</td>\n",
       "      <td>9</td>\n",
       "      <td>23</td>\n",
       "      <td>221.0</td>\n",
       "      <td>10.71</td>\n",
       "      <td>1.0</td>\n",
       "    </tr>\n",
       "    <tr>\n",
       "      <td>3</td>\n",
       "      <td>3</td>\n",
       "      <td>0_2186</td>\n",
       "      <td>2021-10-17 03:27:18.783634</td>\n",
       "      <td>s_105936</td>\n",
       "      <td>c_4597</td>\n",
       "      <td>10</td>\n",
       "      <td>17</td>\n",
       "      <td>446.0</td>\n",
       "      <td>4.20</td>\n",
       "      <td>0.0</td>\n",
       "    </tr>\n",
       "    <tr>\n",
       "      <td>4</td>\n",
       "      <td>4</td>\n",
       "      <td>0_1351</td>\n",
       "      <td>2021-07-17 20:34:25.800563</td>\n",
       "      <td>s_63642</td>\n",
       "      <td>c_1242</td>\n",
       "      <td>7</td>\n",
       "      <td>17</td>\n",
       "      <td>1024.0</td>\n",
       "      <td>8.99</td>\n",
       "      <td>0.0</td>\n",
       "    </tr>\n",
       "    <tr>\n",
       "      <td>...</td>\n",
       "      <td>...</td>\n",
       "      <td>...</td>\n",
       "      <td>...</td>\n",
       "      <td>...</td>\n",
       "      <td>...</td>\n",
       "      <td>...</td>\n",
       "      <td>...</td>\n",
       "      <td>...</td>\n",
       "      <td>...</td>\n",
       "      <td>...</td>\n",
       "    </tr>\n",
       "    <tr>\n",
       "      <td>336811</td>\n",
       "      <td>337011</td>\n",
       "      <td>1_671</td>\n",
       "      <td>2021-05-28 12:35:46.214839</td>\n",
       "      <td>s_40720</td>\n",
       "      <td>c_3454</td>\n",
       "      <td>5</td>\n",
       "      <td>28</td>\n",
       "      <td>625.0</td>\n",
       "      <td>31.99</td>\n",
       "      <td>1.0</td>\n",
       "    </tr>\n",
       "    <tr>\n",
       "      <td>336812</td>\n",
       "      <td>337012</td>\n",
       "      <td>0_759</td>\n",
       "      <td>2021-06-19 00:19:23.917703</td>\n",
       "      <td>s_50568</td>\n",
       "      <td>c_6268</td>\n",
       "      <td>6</td>\n",
       "      <td>19</td>\n",
       "      <td>2467.0</td>\n",
       "      <td>22.99</td>\n",
       "      <td>0.0</td>\n",
       "    </tr>\n",
       "    <tr>\n",
       "      <td>336813</td>\n",
       "      <td>337013</td>\n",
       "      <td>0_1256</td>\n",
       "      <td>2021-03-16 17:31:59.442007</td>\n",
       "      <td>s_7219</td>\n",
       "      <td>c_4137</td>\n",
       "      <td>3</td>\n",
       "      <td>16</td>\n",
       "      <td>565.0</td>\n",
       "      <td>11.03</td>\n",
       "      <td>0.0</td>\n",
       "    </tr>\n",
       "    <tr>\n",
       "      <td>336814</td>\n",
       "      <td>337014</td>\n",
       "      <td>2_227</td>\n",
       "      <td>2021-10-30 16:50:15.997750</td>\n",
       "      <td>s_112349</td>\n",
       "      <td>c_5</td>\n",
       "      <td>10</td>\n",
       "      <td>30</td>\n",
       "      <td>2274.0</td>\n",
       "      <td>50.99</td>\n",
       "      <td>2.0</td>\n",
       "    </tr>\n",
       "    <tr>\n",
       "      <td>336815</td>\n",
       "      <td>337015</td>\n",
       "      <td>0_1417</td>\n",
       "      <td>2021-06-26 14:38:19.732946</td>\n",
       "      <td>s_54117</td>\n",
       "      <td>c_6714</td>\n",
       "      <td>6</td>\n",
       "      <td>26</td>\n",
       "      <td>1469.0</td>\n",
       "      <td>17.99</td>\n",
       "      <td>0.0</td>\n",
       "    </tr>\n",
       "  </tbody>\n",
       "</table>\n",
       "<p>336816 rows × 10 columns</p>\n",
       "</div>"
      ],
      "text/plain": [
       "        Unnamed: 0_x id_prod                        date session_id client_id  \\\n",
       "0                  0  0_1483  2021-04-10 18:37:28.723910    s_18746    c_4450   \n",
       "1                  1   2_226  2022-02-03 01:55:53.276402   s_159142     c_277   \n",
       "2                  2   1_374  2021-09-23 15:13:46.938559    s_94290    c_4270   \n",
       "3                  3  0_2186  2021-10-17 03:27:18.783634   s_105936    c_4597   \n",
       "4                  4  0_1351  2021-07-17 20:34:25.800563    s_63642    c_1242   \n",
       "...              ...     ...                         ...        ...       ...   \n",
       "336811        337011   1_671  2021-05-28 12:35:46.214839    s_40720    c_3454   \n",
       "336812        337012   0_759  2021-06-19 00:19:23.917703    s_50568    c_6268   \n",
       "336813        337013  0_1256  2021-03-16 17:31:59.442007     s_7219    c_4137   \n",
       "336814        337014   2_227  2021-10-30 16:50:15.997750   s_112349       c_5   \n",
       "336815        337015  0_1417  2021-06-26 14:38:19.732946    s_54117    c_6714   \n",
       "\n",
       "        month  day  Unnamed: 0_y  price  categ  \n",
       "0           4   10        1897.0   4.99    0.0  \n",
       "1           2    3         289.0  65.75    2.0  \n",
       "2           9   23         221.0  10.71    1.0  \n",
       "3          10   17         446.0   4.20    0.0  \n",
       "4           7   17        1024.0   8.99    0.0  \n",
       "...       ...  ...           ...    ...    ...  \n",
       "336811      5   28         625.0  31.99    1.0  \n",
       "336812      6   19        2467.0  22.99    0.0  \n",
       "336813      3   16         565.0  11.03    0.0  \n",
       "336814     10   30        2274.0  50.99    2.0  \n",
       "336815      6   26        1469.0  17.99    0.0  \n",
       "\n",
       "[336816 rows x 10 columns]"
      ]
     },
     "execution_count": 16,
     "metadata": {},
     "output_type": "execute_result"
    }
   ],
   "source": [
    "products.head()\n",
    "transactions_products=pd.merge(left=transactions, right=products, how='left', on='id_prod')\n",
    "transactions_products\n"
   ]
  },
  {
   "cell_type": "code",
   "execution_count": 17,
   "metadata": {},
   "outputs": [],
   "source": [
    "#transactions_products.to_csv('transactions_products.csv')"
   ]
  },
  {
   "cell_type": "code",
   "execution_count": 18,
   "metadata": {},
   "outputs": [
    {
     "data": {
      "image/png": "[encoded data removed]",
      "text/plain": [
       "<Figure size 720x360 with 1 Axes>"
      ]
     },
     "metadata": {
      "needs_background": "light"
     },
     "output_type": "display_data"
    }
   ],
   "source": [
    "monthly_transactions=transactions_products.groupby('month')['price'].sum()\n",
    "monthly_transactions = pd.DataFrame(monthly_transactions).reset_index()\n",
    "\n",
    "monthly_transactions.plot(x='month',y='price',figsize=(10,5),linestyle='--', marker='*', markerfacecolor='r',markersize=10)\n",
    "plt.xlabel('month')\n",
    "plt.ylabel('amount of purchase amount')\n",
    "plt.xticks(np.arange(1, 13, 1.0))\n",
    "#plt.yticks(np.arange(1000, 40000, 1000.0))\n",
    "\n",
    "plt.savefig('Transactions Over Months.png')\n",
    "\n",
    "\n",
    "## what is the reasion that we have low amount for mount of October?"
   ]
  },
  {
   "cell_type": "code",
   "execution_count": 19,
   "metadata": {},
   "outputs": [
    {
     "name": "stdout",
     "output_type": "stream",
     "text": [
      "avergae monthly purchase is 483048.147\n",
      "what is the reason of low transaction of month 10? is there missing data?\n"
     ]
    }
   ],
   "source": [
    "\n",
    "monthly_transactions.mean()\n",
    "\n",
    "print('avergae monthly purchase is'+' 483048.147')\n",
    "\n",
    "print('what is the reason of low transaction of month 10? is there missing data?')"
   ]
  },
  {
   "cell_type": "code",
   "execution_count": 20,
   "metadata": {},
   "outputs": [
    {
     "data": {
      "text/html": [
       "<div>\n",
       "<style scoped>\n",
       "    .dataframe tbody tr th:only-of-type {\n",
       "        vertical-align: middle;\n",
       "    }\n",
       "\n",
       "    .dataframe tbody tr th {\n",
       "        vertical-align: top;\n",
       "    }\n",
       "\n",
       "    .dataframe thead th {\n",
       "        text-align: right;\n",
       "    }\n",
       "</style>\n",
       "<table border=\"1\" class=\"dataframe\">\n",
       "  <thead>\n",
       "    <tr style=\"text-align: right;\">\n",
       "      <th></th>\n",
       "      <th>Minimum_Date</th>\n",
       "      <th>Maximum_Date</th>\n",
       "    </tr>\n",
       "    <tr>\n",
       "      <th>month</th>\n",
       "      <th></th>\n",
       "      <th></th>\n",
       "    </tr>\n",
       "  </thead>\n",
       "  <tbody>\n",
       "    <tr>\n",
       "      <td>1</td>\n",
       "      <td>2022-01-01 00:04:46.203980</td>\n",
       "      <td>2022-01-31 23:59:00.474991</td>\n",
       "    </tr>\n",
       "    <tr>\n",
       "      <td>2</td>\n",
       "      <td>2022-02-01 00:02:10.522397</td>\n",
       "      <td>2022-02-28 23:59:58.040472</td>\n",
       "    </tr>\n",
       "    <tr>\n",
       "      <td>3</td>\n",
       "      <td>2021-03-01 00:01:07.843138</td>\n",
       "      <td>2021-03-31 23:59:53.214255</td>\n",
       "    </tr>\n",
       "    <tr>\n",
       "      <td>4</td>\n",
       "      <td>2021-04-01 00:00:04.366652</td>\n",
       "      <td>2021-04-30 23:57:02.590682</td>\n",
       "    </tr>\n",
       "    <tr>\n",
       "      <td>5</td>\n",
       "      <td>2021-05-01 00:01:49.553055</td>\n",
       "      <td>2021-05-31 23:59:54.413783</td>\n",
       "    </tr>\n",
       "    <tr>\n",
       "      <td>6</td>\n",
       "      <td>2021-06-01 00:03:16.187805</td>\n",
       "      <td>2021-06-30 23:58:17.847473</td>\n",
       "    </tr>\n",
       "    <tr>\n",
       "      <td>7</td>\n",
       "      <td>2021-07-01 00:00:03.658679</td>\n",
       "      <td>2021-07-31 23:56:47.244655</td>\n",
       "    </tr>\n",
       "    <tr>\n",
       "      <td>8</td>\n",
       "      <td>2021-08-01 00:00:00.433085</td>\n",
       "      <td>2021-08-31 23:55:09.566574</td>\n",
       "    </tr>\n",
       "    <tr>\n",
       "      <td>9</td>\n",
       "      <td>2021-09-01 00:02:22.251475</td>\n",
       "      <td>2021-09-30 23:59:32.752602</td>\n",
       "    </tr>\n",
       "    <tr>\n",
       "      <td>10</td>\n",
       "      <td>2021-10-01 00:00:23.722317</td>\n",
       "      <td>2021-10-31 23:56:19.757517</td>\n",
       "    </tr>\n",
       "    <tr>\n",
       "      <td>11</td>\n",
       "      <td>2021-11-01 00:03:51.500183</td>\n",
       "      <td>2021-11-30 23:59:14.350250</td>\n",
       "    </tr>\n",
       "    <tr>\n",
       "      <td>12</td>\n",
       "      <td>2021-12-01 00:00:07.849056</td>\n",
       "      <td>2021-12-31 23:53:09.887763</td>\n",
       "    </tr>\n",
       "  </tbody>\n",
       "</table>\n",
       "</div>"
      ],
      "text/plain": [
       "                     Minimum_Date                Maximum_Date\n",
       "month                                                        \n",
       "1      2022-01-01 00:04:46.203980  2022-01-31 23:59:00.474991\n",
       "2      2022-02-01 00:02:10.522397  2022-02-28 23:59:58.040472\n",
       "3      2021-03-01 00:01:07.843138  2021-03-31 23:59:53.214255\n",
       "4      2021-04-01 00:00:04.366652  2021-04-30 23:57:02.590682\n",
       "5      2021-05-01 00:01:49.553055  2021-05-31 23:59:54.413783\n",
       "6      2021-06-01 00:03:16.187805  2021-06-30 23:58:17.847473\n",
       "7      2021-07-01 00:00:03.658679  2021-07-31 23:56:47.244655\n",
       "8      2021-08-01 00:00:00.433085  2021-08-31 23:55:09.566574\n",
       "9      2021-09-01 00:02:22.251475  2021-09-30 23:59:32.752602\n",
       "10     2021-10-01 00:00:23.722317  2021-10-31 23:56:19.757517\n",
       "11     2021-11-01 00:03:51.500183  2021-11-30 23:59:14.350250\n",
       "12     2021-12-01 00:00:07.849056  2021-12-31 23:53:09.887763"
      ]
     },
     "execution_count": 20,
     "metadata": {},
     "output_type": "execute_result"
    }
   ],
   "source": [
    "## investigate transactions_products file, to see if there are some data that were not recorded in the month of OCt\n",
    "\n",
    "\n",
    "# using groupby() function on Group column\n",
    "df = transactions_products.groupby(['month'])\n",
    "  \n",
    "# using agg() function on Date column\n",
    "df2 = df.agg(Minimum_Date=('date', np.min), Maximum_Date=('date', np.max))\n",
    "\n",
    "df2\n",
    "\n",
    "## count number of values, in OCT(number of days), \n",
    "\n"
   ]
  },
  {
   "cell_type": "code",
   "execution_count": 21,
   "metadata": {},
   "outputs": [
    {
     "name": "stdout",
     "output_type": "stream",
     "text": [
      "month\n",
      "1     29316\n",
      "2     29567\n",
      "3     28568\n",
      "4     28415\n",
      "5     28245\n",
      "6     26819\n",
      "7     24716\n",
      "8     25619\n",
      "9     33266\n",
      "10    21584\n",
      "11    28277\n",
      "12    32424\n",
      "Name: session_id, dtype: int64\n",
      "Less number of transaction in the month of 10, probably this is the reason why we have low transaction amount, too\n"
     ]
    }
   ],
   "source": [
    "monthly_transaction_record=transactions_products.groupby('month')['session_id'].count()\n",
    "print(monthly_transaction_record)\n",
    "print(\"Less number of transaction in the month of 10, probably this is the reason why we have low transaction amount, too\")\n"
   ]
  },
  {
   "cell_type": "markdown",
   "metadata": {},
   "source": [
    "### 2.3.3: Bivariate Analysis Visualzation: Age VS Average Price of item purchased - Scatter Plot"
   ]
  },
  {
   "cell_type": "markdown",
   "metadata": {},
   "source": [
    "* Purpose: to see relationship between customer's age and price of item that each age of customer purchased \n",
    "* Variable: age in customers data frame, price in products data frame\n",
    "* Method used: use join function to merge data in each data frame, and alter visualize with scatter plot"
   ]
  },
  {
   "cell_type": "markdown",
   "metadata": {},
   "source": [
    "* in order to have bivrate analysis, merged three individual data frames to have total overview first "
   ]
  },
  {
   "cell_type": "code",
   "execution_count": 22,
   "metadata": {},
   "outputs": [
    {
     "data": {
      "text/html": [
       "<div>\n",
       "<style scoped>\n",
       "    .dataframe tbody tr th:only-of-type {\n",
       "        vertical-align: middle;\n",
       "    }\n",
       "\n",
       "    .dataframe tbody tr th {\n",
       "        vertical-align: top;\n",
       "    }\n",
       "\n",
       "    .dataframe thead th {\n",
       "        text-align: right;\n",
       "    }\n",
       "</style>\n",
       "<table border=\"1\" class=\"dataframe\">\n",
       "  <thead>\n",
       "    <tr style=\"text-align: right;\">\n",
       "      <th></th>\n",
       "      <th>index</th>\n",
       "      <th>Unnamed: 0</th>\n",
       "      <th>client_id</th>\n",
       "      <th>sex</th>\n",
       "      <th>birth</th>\n",
       "      <th>year</th>\n",
       "      <th>age</th>\n",
       "      <th>Unnamed: 0_x</th>\n",
       "      <th>id_prod</th>\n",
       "      <th>date</th>\n",
       "      <th>session_id</th>\n",
       "      <th>month</th>\n",
       "      <th>day</th>\n",
       "      <th>Unnamed: 0_y</th>\n",
       "      <th>price</th>\n",
       "      <th>categ</th>\n",
       "    </tr>\n",
       "  </thead>\n",
       "  <tbody>\n",
       "    <tr>\n",
       "      <td>0</td>\n",
       "      <td>0</td>\n",
       "      <td>0</td>\n",
       "      <td>c_4410</td>\n",
       "      <td>f</td>\n",
       "      <td>1967</td>\n",
       "      <td>2021</td>\n",
       "      <td>54</td>\n",
       "      <td>232881</td>\n",
       "      <td>0_1420</td>\n",
       "      <td>2021-03-22 22:31:25.825764</td>\n",
       "      <td>s_10092</td>\n",
       "      <td>3</td>\n",
       "      <td>22</td>\n",
       "      <td>2572</td>\n",
       "      <td>11.53</td>\n",
       "      <td>0</td>\n",
       "    </tr>\n",
       "    <tr>\n",
       "      <td>1</td>\n",
       "      <td>1</td>\n",
       "      <td>0</td>\n",
       "      <td>c_4410</td>\n",
       "      <td>f</td>\n",
       "      <td>1967</td>\n",
       "      <td>2021</td>\n",
       "      <td>54</td>\n",
       "      <td>283579</td>\n",
       "      <td>0_1390</td>\n",
       "      <td>2021-09-24 23:35:40.652636</td>\n",
       "      <td>s_94984</td>\n",
       "      <td>9</td>\n",
       "      <td>24</td>\n",
       "      <td>3120</td>\n",
       "      <td>19.37</td>\n",
       "      <td>0</td>\n",
       "    </tr>\n",
       "    <tr>\n",
       "      <td>2</td>\n",
       "      <td>2</td>\n",
       "      <td>0</td>\n",
       "      <td>c_4410</td>\n",
       "      <td>f</td>\n",
       "      <td>1967</td>\n",
       "      <td>2021</td>\n",
       "      <td>54</td>\n",
       "      <td>290950</td>\n",
       "      <td>1_483</td>\n",
       "      <td>2021-03-13 21:35:55.949042</td>\n",
       "      <td>s_5913</td>\n",
       "      <td>3</td>\n",
       "      <td>13</td>\n",
       "      <td>1955</td>\n",
       "      <td>15.99</td>\n",
       "      <td>1</td>\n",
       "    </tr>\n",
       "    <tr>\n",
       "      <td>3</td>\n",
       "      <td>3</td>\n",
       "      <td>0</td>\n",
       "      <td>c_4410</td>\n",
       "      <td>f</td>\n",
       "      <td>1967</td>\n",
       "      <td>2021</td>\n",
       "      <td>54</td>\n",
       "      <td>207295</td>\n",
       "      <td>1_267</td>\n",
       "      <td>2021-09-24 23:15:59.919591</td>\n",
       "      <td>s_94984</td>\n",
       "      <td>9</td>\n",
       "      <td>24</td>\n",
       "      <td>1761</td>\n",
       "      <td>27.99</td>\n",
       "      <td>1</td>\n",
       "    </tr>\n",
       "    <tr>\n",
       "      <td>4</td>\n",
       "      <td>4</td>\n",
       "      <td>0</td>\n",
       "      <td>c_4410</td>\n",
       "      <td>f</td>\n",
       "      <td>1967</td>\n",
       "      <td>2021</td>\n",
       "      <td>54</td>\n",
       "      <td>292887</td>\n",
       "      <td>1_395</td>\n",
       "      <td>2021-09-24 23:57:35.138518</td>\n",
       "      <td>s_94984</td>\n",
       "      <td>9</td>\n",
       "      <td>24</td>\n",
       "      <td>1747</td>\n",
       "      <td>28.99</td>\n",
       "      <td>1</td>\n",
       "    </tr>\n",
       "    <tr>\n",
       "      <td>...</td>\n",
       "      <td>...</td>\n",
       "      <td>...</td>\n",
       "      <td>...</td>\n",
       "      <td>...</td>\n",
       "      <td>...</td>\n",
       "      <td>...</td>\n",
       "      <td>...</td>\n",
       "      <td>...</td>\n",
       "      <td>...</td>\n",
       "      <td>...</td>\n",
       "      <td>...</td>\n",
       "      <td>...</td>\n",
       "      <td>...</td>\n",
       "      <td>...</td>\n",
       "      <td>...</td>\n",
       "      <td>...</td>\n",
       "    </tr>\n",
       "    <tr>\n",
       "      <td>336708</td>\n",
       "      <td>336708</td>\n",
       "      <td>8622</td>\n",
       "      <td>c_84</td>\n",
       "      <td>f</td>\n",
       "      <td>1982</td>\n",
       "      <td>2021</td>\n",
       "      <td>39</td>\n",
       "      <td>131115</td>\n",
       "      <td>0_1113</td>\n",
       "      <td>2021-04-13 04:10:27.679097</td>\n",
       "      <td>s_19845</td>\n",
       "      <td>4</td>\n",
       "      <td>13</td>\n",
       "      <td>1998</td>\n",
       "      <td>16.99</td>\n",
       "      <td>0</td>\n",
       "    </tr>\n",
       "    <tr>\n",
       "      <td>336709</td>\n",
       "      <td>336709</td>\n",
       "      <td>8622</td>\n",
       "      <td>c_84</td>\n",
       "      <td>f</td>\n",
       "      <td>1982</td>\n",
       "      <td>2021</td>\n",
       "      <td>39</td>\n",
       "      <td>240457</td>\n",
       "      <td>0_1525</td>\n",
       "      <td>2021-10-21 03:58:28.880240</td>\n",
       "      <td>s_107849</td>\n",
       "      <td>10</td>\n",
       "      <td>21</td>\n",
       "      <td>1400</td>\n",
       "      <td>6.99</td>\n",
       "      <td>0</td>\n",
       "    </tr>\n",
       "    <tr>\n",
       "      <td>336710</td>\n",
       "      <td>336710</td>\n",
       "      <td>8622</td>\n",
       "      <td>c_84</td>\n",
       "      <td>f</td>\n",
       "      <td>1982</td>\n",
       "      <td>2021</td>\n",
       "      <td>39</td>\n",
       "      <td>120069</td>\n",
       "      <td>0_1017</td>\n",
       "      <td>2021-09-13 21:40:46.038481</td>\n",
       "      <td>s_89478</td>\n",
       "      <td>9</td>\n",
       "      <td>13</td>\n",
       "      <td>1534</td>\n",
       "      <td>8.99</td>\n",
       "      <td>0</td>\n",
       "    </tr>\n",
       "    <tr>\n",
       "      <td>336711</td>\n",
       "      <td>336711</td>\n",
       "      <td>8622</td>\n",
       "      <td>c_84</td>\n",
       "      <td>f</td>\n",
       "      <td>1982</td>\n",
       "      <td>2021</td>\n",
       "      <td>39</td>\n",
       "      <td>117823</td>\n",
       "      <td>1_158</td>\n",
       "      <td>2021-10-01 16:11:20.841361</td>\n",
       "      <td>s_98493</td>\n",
       "      <td>10</td>\n",
       "      <td>1</td>\n",
       "      <td>2545</td>\n",
       "      <td>22.17</td>\n",
       "      <td>1</td>\n",
       "    </tr>\n",
       "    <tr>\n",
       "      <td>336712</td>\n",
       "      <td>336712</td>\n",
       "      <td>8622</td>\n",
       "      <td>c_84</td>\n",
       "      <td>f</td>\n",
       "      <td>1982</td>\n",
       "      <td>2021</td>\n",
       "      <td>39</td>\n",
       "      <td>12620</td>\n",
       "      <td>1_110</td>\n",
       "      <td>2021-09-13 21:39:46.845376</td>\n",
       "      <td>s_89478</td>\n",
       "      <td>9</td>\n",
       "      <td>13</td>\n",
       "      <td>3199</td>\n",
       "      <td>54.90</td>\n",
       "      <td>1</td>\n",
       "    </tr>\n",
       "  </tbody>\n",
       "</table>\n",
       "<p>336713 rows × 16 columns</p>\n",
       "</div>"
      ],
      "text/plain": [
       "         index  Unnamed: 0 client_id sex  birth  year  age  Unnamed: 0_x  \\\n",
       "0            0           0    c_4410   f   1967  2021   54        232881   \n",
       "1            1           0    c_4410   f   1967  2021   54        283579   \n",
       "2            2           0    c_4410   f   1967  2021   54        290950   \n",
       "3            3           0    c_4410   f   1967  2021   54        207295   \n",
       "4            4           0    c_4410   f   1967  2021   54        292887   \n",
       "...        ...         ...       ...  ..    ...   ...  ...           ...   \n",
       "336708  336708        8622      c_84   f   1982  2021   39        131115   \n",
       "336709  336709        8622      c_84   f   1982  2021   39        240457   \n",
       "336710  336710        8622      c_84   f   1982  2021   39        120069   \n",
       "336711  336711        8622      c_84   f   1982  2021   39        117823   \n",
       "336712  336712        8622      c_84   f   1982  2021   39         12620   \n",
       "\n",
       "       id_prod                        date session_id  month  day  \\\n",
       "0       0_1420  2021-03-22 22:31:25.825764    s_10092      3   22   \n",
       "1       0_1390  2021-09-24 23:35:40.652636    s_94984      9   24   \n",
       "2        1_483  2021-03-13 21:35:55.949042     s_5913      3   13   \n",
       "3        1_267  2021-09-24 23:15:59.919591    s_94984      9   24   \n",
       "4        1_395  2021-09-24 23:57:35.138518    s_94984      9   24   \n",
       "...        ...                         ...        ...    ...  ...   \n",
       "336708  0_1113  2021-04-13 04:10:27.679097    s_19845      4   13   \n",
       "336709  0_1525  2021-10-21 03:58:28.880240   s_107849     10   21   \n",
       "336710  0_1017  2021-09-13 21:40:46.038481    s_89478      9   13   \n",
       "336711   1_158  2021-10-01 16:11:20.841361    s_98493     10    1   \n",
       "336712   1_110  2021-09-13 21:39:46.845376    s_89478      9   13   \n",
       "\n",
       "        Unnamed: 0_y  price  categ  \n",
       "0               2572  11.53      0  \n",
       "1               3120  19.37      0  \n",
       "2               1955  15.99      1  \n",
       "3               1761  27.99      1  \n",
       "4               1747  28.99      1  \n",
       "...              ...    ...    ...  \n",
       "336708          1998  16.99      0  \n",
       "336709          1400   6.99      0  \n",
       "336710          1534   8.99      0  \n",
       "336711          2545  22.17      1  \n",
       "336712          3199  54.90      1  \n",
       "\n",
       "[336713 rows x 16 columns]"
      ]
     },
     "execution_count": 22,
     "metadata": {},
     "output_type": "execute_result"
    }
   ],
   "source": [
    "# in order to have bivrate analysis, merged three individual data frames to have total overview first \n",
    "\n",
    "transactions_products_info=pd.merge(transactions,products,on='id_prod')\n",
    "merged=pd.merge(customers,transactions_products_info,on='client_id')\n",
    "merged=merged.fillna(0)\n",
    "merged=merged.reset_index()\n",
    "merged"
   ]
  },
  {
   "cell_type": "code",
   "execution_count": 23,
   "metadata": {},
   "outputs": [
    {
     "data": {
      "text/plain": [
       "Index(['index', 'Unnamed: 0', 'client_id', 'sex', 'birth', 'year', 'age',\n",
       "       'Unnamed: 0_x', 'id_prod', 'date', 'session_id', 'month', 'day',\n",
       "       'Unnamed: 0_y', 'price', 'categ'],\n",
       "      dtype='object')"
      ]
     },
     "execution_count": 23,
     "metadata": {},
     "output_type": "execute_result"
    }
   ],
   "source": [
    "merged.columns"
   ]
  },
  {
   "cell_type": "code",
   "execution_count": 24,
   "metadata": {},
   "outputs": [
    {
     "data": {
      "text/html": [
       "<div>\n",
       "<style scoped>\n",
       "    .dataframe tbody tr th:only-of-type {\n",
       "        vertical-align: middle;\n",
       "    }\n",
       "\n",
       "    .dataframe tbody tr th {\n",
       "        vertical-align: top;\n",
       "    }\n",
       "\n",
       "    .dataframe thead th {\n",
       "        text-align: right;\n",
       "    }\n",
       "</style>\n",
       "<table border=\"1\" class=\"dataframe\">\n",
       "  <thead>\n",
       "    <tr style=\"text-align: right;\">\n",
       "      <th></th>\n",
       "      <th>age</th>\n",
       "      <th>month</th>\n",
       "      <th>price</th>\n",
       "      <th>categ</th>\n",
       "      <th>session_id</th>\n",
       "      <th>sex</th>\n",
       "    </tr>\n",
       "  </thead>\n",
       "  <tbody>\n",
       "    <tr>\n",
       "      <td>0</td>\n",
       "      <td>54</td>\n",
       "      <td>3</td>\n",
       "      <td>11.53</td>\n",
       "      <td>0</td>\n",
       "      <td>s_10092</td>\n",
       "      <td>f</td>\n",
       "    </tr>\n",
       "    <tr>\n",
       "      <td>1</td>\n",
       "      <td>54</td>\n",
       "      <td>9</td>\n",
       "      <td>19.37</td>\n",
       "      <td>0</td>\n",
       "      <td>s_94984</td>\n",
       "      <td>f</td>\n",
       "    </tr>\n",
       "    <tr>\n",
       "      <td>2</td>\n",
       "      <td>54</td>\n",
       "      <td>3</td>\n",
       "      <td>15.99</td>\n",
       "      <td>1</td>\n",
       "      <td>s_5913</td>\n",
       "      <td>f</td>\n",
       "    </tr>\n",
       "    <tr>\n",
       "      <td>3</td>\n",
       "      <td>54</td>\n",
       "      <td>9</td>\n",
       "      <td>27.99</td>\n",
       "      <td>1</td>\n",
       "      <td>s_94984</td>\n",
       "      <td>f</td>\n",
       "    </tr>\n",
       "    <tr>\n",
       "      <td>4</td>\n",
       "      <td>54</td>\n",
       "      <td>9</td>\n",
       "      <td>28.99</td>\n",
       "      <td>1</td>\n",
       "      <td>s_94984</td>\n",
       "      <td>f</td>\n",
       "    </tr>\n",
       "  </tbody>\n",
       "</table>\n",
       "</div>"
      ],
      "text/plain": [
       "   age  month  price  categ session_id sex\n",
       "0   54      3  11.53      0    s_10092   f\n",
       "1   54      9  19.37      0    s_94984   f\n",
       "2   54      3  15.99      1     s_5913   f\n",
       "3   54      9  27.99      1    s_94984   f\n",
       "4   54      9  28.99      1    s_94984   f"
      ]
     },
     "execution_count": 24,
     "metadata": {},
     "output_type": "execute_result"
    }
   ],
   "source": [
    "merged = merged[['age','month','price','categ','session_id','sex']]\n",
    "merged.head()"
   ]
  },
  {
   "cell_type": "code",
   "execution_count": 25,
   "metadata": {},
   "outputs": [
    {
     "data": {
      "text/html": [
       "<div>\n",
       "<style scoped>\n",
       "    .dataframe tbody tr th:only-of-type {\n",
       "        vertical-align: middle;\n",
       "    }\n",
       "\n",
       "    .dataframe tbody tr th {\n",
       "        vertical-align: top;\n",
       "    }\n",
       "\n",
       "    .dataframe thead th {\n",
       "        text-align: right;\n",
       "    }\n",
       "</style>\n",
       "<table border=\"1\" class=\"dataframe\">\n",
       "  <thead>\n",
       "    <tr style=\"text-align: right;\">\n",
       "      <th></th>\n",
       "      <th>age</th>\n",
       "      <th>price</th>\n",
       "    </tr>\n",
       "  </thead>\n",
       "  <tbody>\n",
       "    <tr>\n",
       "      <td>0</td>\n",
       "      <td>17</td>\n",
       "      <td>40.199780</td>\n",
       "    </tr>\n",
       "    <tr>\n",
       "      <td>1</td>\n",
       "      <td>18</td>\n",
       "      <td>40.541425</td>\n",
       "    </tr>\n",
       "    <tr>\n",
       "      <td>2</td>\n",
       "      <td>19</td>\n",
       "      <td>40.445353</td>\n",
       "    </tr>\n",
       "    <tr>\n",
       "      <td>3</td>\n",
       "      <td>20</td>\n",
       "      <td>41.772382</td>\n",
       "    </tr>\n",
       "    <tr>\n",
       "      <td>4</td>\n",
       "      <td>21</td>\n",
       "      <td>36.844489</td>\n",
       "    </tr>\n",
       "    <tr>\n",
       "      <td>...</td>\n",
       "      <td>...</td>\n",
       "      <td>...</td>\n",
       "    </tr>\n",
       "    <tr>\n",
       "      <td>71</td>\n",
       "      <td>88</td>\n",
       "      <td>16.147362</td>\n",
       "    </tr>\n",
       "    <tr>\n",
       "      <td>72</td>\n",
       "      <td>89</td>\n",
       "      <td>16.264717</td>\n",
       "    </tr>\n",
       "    <tr>\n",
       "      <td>73</td>\n",
       "      <td>90</td>\n",
       "      <td>17.058571</td>\n",
       "    </tr>\n",
       "    <tr>\n",
       "      <td>74</td>\n",
       "      <td>91</td>\n",
       "      <td>17.637826</td>\n",
       "    </tr>\n",
       "    <tr>\n",
       "      <td>75</td>\n",
       "      <td>92</td>\n",
       "      <td>15.116628</td>\n",
       "    </tr>\n",
       "  </tbody>\n",
       "</table>\n",
       "<p>76 rows × 2 columns</p>\n",
       "</div>"
      ],
      "text/plain": [
       "    age      price\n",
       "0    17  40.199780\n",
       "1    18  40.541425\n",
       "2    19  40.445353\n",
       "3    20  41.772382\n",
       "4    21  36.844489\n",
       "..  ...        ...\n",
       "71   88  16.147362\n",
       "72   89  16.264717\n",
       "73   90  17.058571\n",
       "74   91  17.637826\n",
       "75   92  15.116628\n",
       "\n",
       "[76 rows x 2 columns]"
      ]
     },
     "execution_count": 25,
     "metadata": {},
     "output_type": "execute_result"
    }
   ],
   "source": [
    "age_vs_purchase=merged.groupby('age')['price'].mean()\n",
    "age_vs_purchase=age_vs_purchase.to_frame()\n",
    "age_vs_purchase=age_vs_purchase.reset_index()\n",
    "age_vs_purchase"
   ]
  },
  {
   "cell_type": "code",
   "execution_count": 26,
   "metadata": {},
   "outputs": [
    {
     "data": {
      "text/html": [
       "<div>\n",
       "<style scoped>\n",
       "    .dataframe tbody tr th:only-of-type {\n",
       "        vertical-align: middle;\n",
       "    }\n",
       "\n",
       "    .dataframe tbody tr th {\n",
       "        vertical-align: top;\n",
       "    }\n",
       "\n",
       "    .dataframe thead th {\n",
       "        text-align: right;\n",
       "    }\n",
       "</style>\n",
       "<table border=\"1\" class=\"dataframe\">\n",
       "  <thead>\n",
       "    <tr style=\"text-align: right;\">\n",
       "      <th></th>\n",
       "      <th>age</th>\n",
       "      <th>price</th>\n",
       "      <th>age group</th>\n",
       "    </tr>\n",
       "  </thead>\n",
       "  <tbody>\n",
       "    <tr>\n",
       "      <td>0</td>\n",
       "      <td>17</td>\n",
       "      <td>40.199780</td>\n",
       "      <td>24 and under</td>\n",
       "    </tr>\n",
       "    <tr>\n",
       "      <td>1</td>\n",
       "      <td>18</td>\n",
       "      <td>40.541425</td>\n",
       "      <td>24 and under</td>\n",
       "    </tr>\n",
       "    <tr>\n",
       "      <td>2</td>\n",
       "      <td>19</td>\n",
       "      <td>40.445353</td>\n",
       "      <td>24 and under</td>\n",
       "    </tr>\n",
       "    <tr>\n",
       "      <td>3</td>\n",
       "      <td>20</td>\n",
       "      <td>41.772382</td>\n",
       "      <td>24 and under</td>\n",
       "    </tr>\n",
       "    <tr>\n",
       "      <td>4</td>\n",
       "      <td>21</td>\n",
       "      <td>36.844489</td>\n",
       "      <td>24 and under</td>\n",
       "    </tr>\n",
       "    <tr>\n",
       "      <td>...</td>\n",
       "      <td>...</td>\n",
       "      <td>...</td>\n",
       "      <td>...</td>\n",
       "    </tr>\n",
       "    <tr>\n",
       "      <td>71</td>\n",
       "      <td>88</td>\n",
       "      <td>16.147362</td>\n",
       "      <td>65+</td>\n",
       "    </tr>\n",
       "    <tr>\n",
       "      <td>72</td>\n",
       "      <td>89</td>\n",
       "      <td>16.264717</td>\n",
       "      <td>65+</td>\n",
       "    </tr>\n",
       "    <tr>\n",
       "      <td>73</td>\n",
       "      <td>90</td>\n",
       "      <td>17.058571</td>\n",
       "      <td>65+</td>\n",
       "    </tr>\n",
       "    <tr>\n",
       "      <td>74</td>\n",
       "      <td>91</td>\n",
       "      <td>17.637826</td>\n",
       "      <td>65+</td>\n",
       "    </tr>\n",
       "    <tr>\n",
       "      <td>75</td>\n",
       "      <td>92</td>\n",
       "      <td>15.116628</td>\n",
       "      <td>65+</td>\n",
       "    </tr>\n",
       "  </tbody>\n",
       "</table>\n",
       "<p>76 rows × 3 columns</p>\n",
       "</div>"
      ],
      "text/plain": [
       "    age      price     age group\n",
       "0    17  40.199780  24 and under\n",
       "1    18  40.541425  24 and under\n",
       "2    19  40.445353  24 and under\n",
       "3    20  41.772382  24 and under\n",
       "4    21  36.844489  24 and under\n",
       "..  ...        ...           ...\n",
       "71   88  16.147362           65+\n",
       "72   89  16.264717           65+\n",
       "73   90  17.058571           65+\n",
       "74   91  17.637826           65+\n",
       "75   92  15.116628           65+\n",
       "\n",
       "[76 rows x 3 columns]"
      ]
     },
     "execution_count": 26,
     "metadata": {},
     "output_type": "execute_result"
    }
   ],
   "source": [
    "# Make box plot to see if there is difference in averge item price purchase per age group : \n",
    "# age group segmentation: https://www.pickfu.com/demographic-segmentation#:~:text=Age%20segmentation%20means%20focusing%20on,64%2C%20and%2065%20and%20older.\n",
    "\n",
    "\n",
    "# create a list of our conditions\n",
    "conditions = [\n",
    "    (age_vs_purchase['age'] <= 24),\n",
    "    (age_vs_purchase['age'] > 24) & (age_vs_purchase['age'] <= 34),\n",
    "    (age_vs_purchase['age'] > 34) & (age_vs_purchase['age'] <= 44),\n",
    "    (age_vs_purchase['age'] > 44) & (age_vs_purchase['age'] <= 54),\n",
    "    (age_vs_purchase['age'] > 54) & (age_vs_purchase['age'] <= 64),\n",
    "    (age_vs_purchase['age'] > 64)\n",
    "    ]\n",
    "\n",
    "# create a list of the values we want to assign for each condition\n",
    "values = ['24 and under', '25-34', '35-44', '45-54','55-64','65+']\n",
    "\n",
    "# create a new column and use np.select to assign values to it using our lists as arguments\n",
    "age_vs_purchase['age group'] = np.select(conditions, values)\n",
    "\n",
    "# display updated DataFrame\n",
    "age_vs_purchase"
   ]
  },
  {
   "cell_type": "code",
   "execution_count": 27,
   "metadata": {},
   "outputs": [
    {
     "data": {
      "image/png": "[encoded data removed]",
      "text/plain": [
       "<Figure size 432x288 with 1 Axes>"
      ]
     },
     "metadata": {
      "needs_background": "light"
     },
     "output_type": "display_data"
    },
    {
     "data": {
      "text/plain": [
       "<Figure size 432x288 with 0 Axes>"
      ]
     },
     "metadata": {},
     "output_type": "display_data"
    }
   ],
   "source": [
    "\n",
    "ax = sns.boxplot(x=\"age group\", y=\"price\", data=age_vs_purchase)\n",
    "plt.xlabel(\"Product Category\")\n",
    "plt.ylabel(\"Price Range\")\n",
    "plt.show()\n",
    "\n",
    "plt.savefig('Purchase Item Price VS Age Group.png')\n"
   ]
  },
  {
   "cell_type": "code",
   "execution_count": 28,
   "metadata": {},
   "outputs": [
    {
     "name": "stdout",
     "output_type": "stream",
     "text": [
      "age group 24 and under, 25-34 have the highest item price purchased\n"
     ]
    }
   ],
   "source": [
    "print(\"age group 24 and under, 25-34 have the highest item price purchased\")"
   ]
  },
  {
   "cell_type": "markdown",
   "metadata": {},
   "source": [
    "### 2.3.4: Pice chart for Product Category"
   ]
  },
  {
   "cell_type": "code",
   "execution_count": 29,
   "metadata": {},
   "outputs": [
    {
     "data": {
      "image/png": "[encoded data removed]",
      "text/plain": [
       "<Figure size 432x288 with 1 Axes>"
      ]
     },
     "metadata": {},
     "output_type": "display_data"
    },
    {
     "data": {
      "text/plain": [
       "<Figure size 432x288 with 0 Axes>"
      ]
     },
     "metadata": {},
     "output_type": "display_data"
    }
   ],
   "source": [
    "products_categ=products.groupby('categ')['id_prod'].count()\n",
    "products_categ= pd.DataFrame(products_categ)\n",
    "products_categ=products_categ.reset_index()\n",
    "products_categ=products_categ.loc[:,:]\n",
    "products_categ=products_categ['id_prod']\n",
    "products_categ=products_categ.to_numpy()\n",
    "my_labels = 'Categ:0','Categ:1','Categ:2'\n",
    "plt.pie(products_categ,labels=my_labels,autopct='%1.1f%%')\n",
    "plt.title('Product Category Distribution')\n",
    "plt.axis('equal')\n",
    "plt.show()\n",
    "plt.savefig('Product Category Distribution.png')\n"
   ]
  },
  {
   "cell_type": "markdown",
   "metadata": {},
   "source": [
    "# Task3: Correlations - visualizations and calculation"
   ]
  },
  {
   "cell_type": "markdown",
   "metadata": {},
   "source": [
    "## 3.1:Correlation Gender VS Categories of Products"
   ]
  },
  {
   "cell_type": "markdown",
   "metadata": {},
   "source": [
    "* Purpose: to correlation between two qualitative variables\n",
    "* Variable: gender and cateogry of products\n",
    "* Method used:xi_n formula and color-coded contigency table, using seaborn and visualize with heatmap and do Chi- Square Test. \n"
   ]
  },
  {
   "cell_type": "code",
   "execution_count": 30,
   "metadata": {},
   "outputs": [
    {
     "data": {
      "text/html": [
       "<div>\n",
       "<style scoped>\n",
       "    .dataframe tbody tr th:only-of-type {\n",
       "        vertical-align: middle;\n",
       "    }\n",
       "\n",
       "    .dataframe tbody tr th {\n",
       "        vertical-align: top;\n",
       "    }\n",
       "\n",
       "    .dataframe thead th {\n",
       "        text-align: right;\n",
       "    }\n",
       "</style>\n",
       "<table border=\"1\" class=\"dataframe\">\n",
       "  <thead>\n",
       "    <tr style=\"text-align: right;\">\n",
       "      <th>sex</th>\n",
       "      <th>f</th>\n",
       "      <th>m</th>\n",
       "    </tr>\n",
       "    <tr>\n",
       "      <th>categ</th>\n",
       "      <th></th>\n",
       "      <th></th>\n",
       "    </tr>\n",
       "  </thead>\n",
       "  <tbody>\n",
       "    <tr>\n",
       "      <td>0</td>\n",
       "      <td>103786</td>\n",
       "      <td>105640</td>\n",
       "    </tr>\n",
       "    <tr>\n",
       "      <td>1</td>\n",
       "      <td>55469</td>\n",
       "      <td>54266</td>\n",
       "    </tr>\n",
       "    <tr>\n",
       "      <td>2</td>\n",
       "      <td>8260</td>\n",
       "      <td>9292</td>\n",
       "    </tr>\n",
       "  </tbody>\n",
       "</table>\n",
       "</div>"
      ],
      "text/plain": [
       "sex         f       m\n",
       "categ                \n",
       "0      103786  105640\n",
       "1       55469   54266\n",
       "2        8260    9292"
      ]
     },
     "execution_count": 30,
     "metadata": {},
     "output_type": "execute_result"
    }
   ],
   "source": [
    "##https://aaronschlegel.me/chi-square-test-independence-contingency-tables.html (reference)\n",
    "## Make observation table - step 1 \n",
    "\n",
    "from sklearn.metrics import r2_score\n",
    "from scipy import stats\n",
    "from functools import reduce\n",
    "X = \"categ\"\n",
    "Y = \"sex\"\n",
    "observation = merged[['categ','sex']].pivot_table(index=X,columns=Y,aggfunc=len,margins=True,margins_name=\"Total\")\n",
    "observation=observation.reset_index()\n",
    "observation=observation.set_index('categ')\n",
    "\n",
    "observation = observation[['f', 'm']]\n",
    "observation=observation.iloc[0:3]\n",
    "\n",
    "observation"
   ]
  },
  {
   "cell_type": "code",
   "execution_count": 31,
   "metadata": {},
   "outputs": [
    {
     "data": {
      "text/plain": [
       "array([[ 1.563511  ,  1.54795888],\n",
       "       [14.0480737 , 13.90833855],\n",
       "       [25.5276867 , 25.27376469]])"
      ]
     },
     "execution_count": 31,
     "metadata": {},
     "output_type": "execute_result"
    }
   ],
   "source": [
    "## Make contingency table based on observation table and expected frequence table\n",
    "\n",
    "observation = observation.to_numpy()\n",
    "observation\n",
    "c = np.apply_over_axes(np.sum, observation, 0) # column totals of observations table\n",
    "r = np.apply_over_axes(np.sum, observation, 1) # row totals of observations table\n",
    "exp_freq = reduce(np.multiply, (r, c)) / np.sum(observation)\n",
    "cont_table = np.absolute(observation - exp_freq)\n",
    "cont_table= cont_table ** 2 / exp_freq\n",
    "cont_table"
   ]
  },
  {
   "cell_type": "code",
   "execution_count": 32,
   "metadata": {},
   "outputs": [
    {
     "data": {
      "image/png": "[encoded data removed]",
      "text/plain": [
       "<Figure size 432x288 with 2 Axes>"
      ]
     },
     "metadata": {
      "needs_background": "light"
     },
     "output_type": "display_data"
    }
   ],
   "source": [
    "\n",
    "cont_table=pd.DataFrame(cont_table)\n",
    "cont_table=cont_table.rename(columns={0: 'F', 1: 'M'})\n",
    "xi_n = cont_table.sum().sum()\n",
    "\n",
    "ax = sns.heatmap(cont_table/xi_n, annot=True) #notation: \"annot\" not \"annote\"\n",
    "bottom, top = ax.get_ylim()\n",
    "plt.xlabel(\"Customer Gender\")\n",
    "plt.ylabel(\"Item Category\")\n",
    "ax.set_ylim(bottom + 0.5, top - 0.5)\n",
    "plt.savefig('Heat Map Gender and Item Category Relations.png')"
   ]
  },
  {
   "cell_type": "code",
   "execution_count": 33,
   "metadata": {},
   "outputs": [
    {
     "data": {
      "text/html": [
       "<div>\n",
       "<style scoped>\n",
       "    .dataframe tbody tr th:only-of-type {\n",
       "        vertical-align: middle;\n",
       "    }\n",
       "\n",
       "    .dataframe tbody tr th {\n",
       "        vertical-align: top;\n",
       "    }\n",
       "\n",
       "    .dataframe thead th {\n",
       "        text-align: right;\n",
       "    }\n",
       "</style>\n",
       "<table border=\"1\" class=\"dataframe\">\n",
       "  <thead>\n",
       "    <tr style=\"text-align: right;\">\n",
       "      <th></th>\n",
       "      <th>F</th>\n",
       "      <th>M</th>\n",
       "    </tr>\n",
       "  </thead>\n",
       "  <tbody>\n",
       "    <tr>\n",
       "      <td>0</td>\n",
       "      <td>0.019098</td>\n",
       "      <td>0.018908</td>\n",
       "    </tr>\n",
       "    <tr>\n",
       "      <td>1</td>\n",
       "      <td>0.171591</td>\n",
       "      <td>0.169885</td>\n",
       "    </tr>\n",
       "    <tr>\n",
       "      <td>2</td>\n",
       "      <td>0.311810</td>\n",
       "      <td>0.308709</td>\n",
       "    </tr>\n",
       "  </tbody>\n",
       "</table>\n",
       "</div>"
      ],
      "text/plain": [
       "          F         M\n",
       "0  0.019098  0.018908\n",
       "1  0.171591  0.169885\n",
       "2  0.311810  0.308709"
      ]
     },
     "execution_count": 33,
     "metadata": {},
     "output_type": "execute_result"
    }
   ],
   "source": [
    "#The larger Xi_n is, the less valid the independence assumption is.\n",
    "(cont_table/xi_n)"
   ]
  },
  {
   "cell_type": "code",
   "execution_count": 34,
   "metadata": {},
   "outputs": [
    {
     "data": {
      "text/html": [
       "<div>\n",
       "<style scoped>\n",
       "    .dataframe tbody tr th:only-of-type {\n",
       "        vertical-align: middle;\n",
       "    }\n",
       "\n",
       "    .dataframe tbody tr th {\n",
       "        vertical-align: top;\n",
       "    }\n",
       "\n",
       "    .dataframe thead th {\n",
       "        text-align: right;\n",
       "    }\n",
       "</style>\n",
       "<table border=\"1\" class=\"dataframe\">\n",
       "  <thead>\n",
       "    <tr style=\"text-align: right;\">\n",
       "      <th></th>\n",
       "      <th>F</th>\n",
       "      <th>M</th>\n",
       "    </tr>\n",
       "  </thead>\n",
       "  <tbody>\n",
       "    <tr>\n",
       "      <td>0</td>\n",
       "      <td>1.909764</td>\n",
       "      <td>1.890768</td>\n",
       "    </tr>\n",
       "    <tr>\n",
       "      <td>1</td>\n",
       "      <td>17.159140</td>\n",
       "      <td>16.988459</td>\n",
       "    </tr>\n",
       "    <tr>\n",
       "      <td>2</td>\n",
       "      <td>31.181012</td>\n",
       "      <td>30.870857</td>\n",
       "    </tr>\n",
       "  </tbody>\n",
       "</table>\n",
       "</div>"
      ],
      "text/plain": [
       "           F          M\n",
       "0   1.909764   1.890768\n",
       "1  17.159140  16.988459\n",
       "2  31.181012  30.870857"
      ]
     },
     "execution_count": 34,
     "metadata": {},
     "output_type": "execute_result"
    }
   ],
   "source": [
    "#% contribution to non-independence\n",
    "(cont_table/xi_n)*100\n"
   ]
  },
  {
   "cell_type": "code",
   "execution_count": 35,
   "metadata": {},
   "outputs": [
    {
     "name": "stdout",
     "output_type": "stream",
     "text": [
      "Dependent (reject H0)\n",
      "81.86933350990711 is pretty high calcaultion of xi_in\n",
      "there is a correlation between the gender of the customer and the category of products purchased\n"
     ]
    }
   ],
   "source": [
    "from scipy.stats import chi2_contingency\n",
    "from scipy.stats import chi2\n",
    "\n",
    "stat, p, dof, expected = chi2_contingency(observation)\n",
    "prob = 0.95\n",
    "critical = chi2.ppf(prob, dof)\n",
    "if abs(stat) >= critical:\n",
    "\tprint('Dependent (reject H0)')\n",
    "else:\n",
    "\tprint('Independent (fail to reject H0)')\n",
    "    \n",
    "print(str(abs(stat))+' is pretty high calcaultion of xi_in')\n",
    "print(\"there is a correlation between the gender of the customer and the category of products purchased\")"
   ]
  },
  {
   "cell_type": "code",
   "execution_count": 36,
   "metadata": {},
   "outputs": [
    {
     "data": {
      "text/plain": [
       "(81.86933350990711,\n",
       " 1.6683997257127539e-18,\n",
       " 2,\n",
       " array([[104189.61070704, 105236.38929296],\n",
       "        [ 54593.25456695,  55141.74543305],\n",
       "        [  8732.13472601,   8819.86527399]]))"
      ]
     },
     "execution_count": 36,
     "metadata": {},
     "output_type": "execute_result"
    }
   ],
   "source": [
    "chi2_contingency(observation)\n",
    "\n",
    "## very low p value means that relation is signification between variables"
   ]
  },
  {
   "cell_type": "markdown",
   "metadata": {},
   "source": [
    "## 3.2: Correlation Age VS Total Amount Purchase"
   ]
  },
  {
   "cell_type": "markdown",
   "metadata": {},
   "source": [
    "* Purpose: to see correlation between csutomer's age and total amount of purchase\n",
    "* Variable: age and price, two quantitative variables\n",
    "* Method used: filter and aggregate variable with groupby , R^2 calculation with .corr and make visualization with scatter plot"
   ]
  },
  {
   "cell_type": "code",
   "execution_count": 37,
   "metadata": {},
   "outputs": [
    {
     "data": {
      "text/html": [
       "<div>\n",
       "<style scoped>\n",
       "    .dataframe tbody tr th:only-of-type {\n",
       "        vertical-align: middle;\n",
       "    }\n",
       "\n",
       "    .dataframe tbody tr th {\n",
       "        vertical-align: top;\n",
       "    }\n",
       "\n",
       "    .dataframe thead th {\n",
       "        text-align: right;\n",
       "    }\n",
       "</style>\n",
       "<table border=\"1\" class=\"dataframe\">\n",
       "  <thead>\n",
       "    <tr style=\"text-align: right;\">\n",
       "      <th></th>\n",
       "      <th>age</th>\n",
       "      <th>month</th>\n",
       "      <th>price</th>\n",
       "      <th>categ</th>\n",
       "      <th>session_id</th>\n",
       "      <th>sex</th>\n",
       "    </tr>\n",
       "  </thead>\n",
       "  <tbody>\n",
       "    <tr>\n",
       "      <td>0</td>\n",
       "      <td>54</td>\n",
       "      <td>3</td>\n",
       "      <td>11.53</td>\n",
       "      <td>0</td>\n",
       "      <td>s_10092</td>\n",
       "      <td>f</td>\n",
       "    </tr>\n",
       "    <tr>\n",
       "      <td>1</td>\n",
       "      <td>54</td>\n",
       "      <td>9</td>\n",
       "      <td>19.37</td>\n",
       "      <td>0</td>\n",
       "      <td>s_94984</td>\n",
       "      <td>f</td>\n",
       "    </tr>\n",
       "    <tr>\n",
       "      <td>2</td>\n",
       "      <td>54</td>\n",
       "      <td>3</td>\n",
       "      <td>15.99</td>\n",
       "      <td>1</td>\n",
       "      <td>s_5913</td>\n",
       "      <td>f</td>\n",
       "    </tr>\n",
       "    <tr>\n",
       "      <td>3</td>\n",
       "      <td>54</td>\n",
       "      <td>9</td>\n",
       "      <td>27.99</td>\n",
       "      <td>1</td>\n",
       "      <td>s_94984</td>\n",
       "      <td>f</td>\n",
       "    </tr>\n",
       "    <tr>\n",
       "      <td>4</td>\n",
       "      <td>54</td>\n",
       "      <td>9</td>\n",
       "      <td>28.99</td>\n",
       "      <td>1</td>\n",
       "      <td>s_94984</td>\n",
       "      <td>f</td>\n",
       "    </tr>\n",
       "  </tbody>\n",
       "</table>\n",
       "</div>"
      ],
      "text/plain": [
       "   age  month  price  categ session_id sex\n",
       "0   54      3  11.53      0    s_10092   f\n",
       "1   54      9  19.37      0    s_94984   f\n",
       "2   54      3  15.99      1     s_5913   f\n",
       "3   54      9  27.99      1    s_94984   f\n",
       "4   54      9  28.99      1    s_94984   f"
      ]
     },
     "execution_count": 37,
     "metadata": {},
     "output_type": "execute_result"
    }
   ],
   "source": [
    "merged.head()"
   ]
  },
  {
   "cell_type": "code",
   "execution_count": 38,
   "metadata": {},
   "outputs": [
    {
     "name": "stdout",
     "output_type": "stream",
     "text": [
      "Strong negative relationship\n",
      "            age     price\n",
      "age    1.000000 -0.774658\n",
      "price -0.774658  1.000000\n"
     ]
    }
   ],
   "source": [
    "total_amount_purchase=merged.groupby('age').price.sum()\n",
    "total_amount_purchase=total_amount_purchase.to_frame().reset_index()\n",
    "total_amount_purchase.corr(method='pearson')\n",
    "print(\"Strong negative relationship\")\n",
    "print(total_amount_purchase.corr(method='pearson'))"
   ]
  },
  {
   "cell_type": "code",
   "execution_count": 39,
   "metadata": {},
   "outputs": [
    {
     "data": {
      "image/png": "[encoded data removed]",
      "text/plain": [
       "<Figure size 432x288 with 1 Axes>"
      ]
     },
     "metadata": {
      "needs_background": "light"
     },
     "output_type": "display_data"
    },
    {
     "data": {
      "text/plain": [
       "<Figure size 432x288 with 0 Axes>"
      ]
     },
     "metadata": {},
     "output_type": "display_data"
    }
   ],
   "source": [
    "x = total_amount_purchase['age']\n",
    "y = total_amount_purchase['price']\n",
    "plt.xlabel(\"client age\")\n",
    "plt.ylabel(\"total amount of purchase\")\n",
    "plt.bar(x,y) \n",
    "plt.show()\n",
    "plt.savefig('Age vs Total Purchase Amount.png')"
   ]
  },
  {
   "cell_type": "markdown",
   "metadata": {},
   "source": [
    "## 3.3: Correlaton Age VS Purchase Frequency "
   ]
  },
  {
   "cell_type": "markdown",
   "metadata": {},
   "source": [
    "* Purpose: to see correlation between csutomer's age and purchase frequency\n",
    "* Variable: age and purchase freqnecy represented by session_id, two quantitative variables\n",
    "* Method used: filter and aggregate variable with groupby , R^2 calculation with .corr and make visualization with scatter plot"
   ]
  },
  {
   "cell_type": "code",
   "execution_count": 40,
   "metadata": {},
   "outputs": [
    {
     "name": "stdout",
     "output_type": "stream",
     "text": [
      "Moderate negative relationship\n",
      "                 age  session_id\n",
      "age         1.000000   -0.548306\n",
      "session_id -0.548306    1.000000\n"
     ]
    }
   ],
   "source": [
    "purchase_frequency=merged.groupby('age').session_id.nunique()\n",
    "purchase_frequency=purchase_frequency.to_frame().reset_index()\n",
    "purchase_frequency.corr(method='pearson')\n",
    "\n",
    "print(\"Moderate negative relationship\")\n",
    "print(purchase_frequency.corr(method='pearson'))"
   ]
  },
  {
   "cell_type": "code",
   "execution_count": 41,
   "metadata": {},
   "outputs": [
    {
     "data": {
      "text/html": [
       "<div>\n",
       "<style scoped>\n",
       "    .dataframe tbody tr th:only-of-type {\n",
       "        vertical-align: middle;\n",
       "    }\n",
       "\n",
       "    .dataframe tbody tr th {\n",
       "        vertical-align: top;\n",
       "    }\n",
       "\n",
       "    .dataframe thead th {\n",
       "        text-align: right;\n",
       "    }\n",
       "</style>\n",
       "<table border=\"1\" class=\"dataframe\">\n",
       "  <thead>\n",
       "    <tr style=\"text-align: right;\">\n",
       "      <th></th>\n",
       "      <th>age</th>\n",
       "      <th>session_id</th>\n",
       "    </tr>\n",
       "  </thead>\n",
       "  <tbody>\n",
       "    <tr>\n",
       "      <td>0</td>\n",
       "      <td>17</td>\n",
       "      <td>4182</td>\n",
       "    </tr>\n",
       "    <tr>\n",
       "      <td>1</td>\n",
       "      <td>18</td>\n",
       "      <td>1265</td>\n",
       "    </tr>\n",
       "    <tr>\n",
       "      <td>2</td>\n",
       "      <td>19</td>\n",
       "      <td>1276</td>\n",
       "    </tr>\n",
       "    <tr>\n",
       "      <td>3</td>\n",
       "      <td>20</td>\n",
       "      <td>1173</td>\n",
       "    </tr>\n",
       "    <tr>\n",
       "      <td>4</td>\n",
       "      <td>21</td>\n",
       "      <td>1180</td>\n",
       "    </tr>\n",
       "    <tr>\n",
       "      <td>...</td>\n",
       "      <td>...</td>\n",
       "      <td>...</td>\n",
       "    </tr>\n",
       "    <tr>\n",
       "      <td>71</td>\n",
       "      <td>88</td>\n",
       "      <td>117</td>\n",
       "    </tr>\n",
       "    <tr>\n",
       "      <td>72</td>\n",
       "      <td>89</td>\n",
       "      <td>103</td>\n",
       "    </tr>\n",
       "    <tr>\n",
       "      <td>73</td>\n",
       "      <td>90</td>\n",
       "      <td>49</td>\n",
       "    </tr>\n",
       "    <tr>\n",
       "      <td>74</td>\n",
       "      <td>91</td>\n",
       "      <td>72</td>\n",
       "    </tr>\n",
       "    <tr>\n",
       "      <td>75</td>\n",
       "      <td>92</td>\n",
       "      <td>64</td>\n",
       "    </tr>\n",
       "  </tbody>\n",
       "</table>\n",
       "<p>76 rows × 2 columns</p>\n",
       "</div>"
      ],
      "text/plain": [
       "    age  session_id\n",
       "0    17        4182\n",
       "1    18        1265\n",
       "2    19        1276\n",
       "3    20        1173\n",
       "4    21        1180\n",
       "..  ...         ...\n",
       "71   88         117\n",
       "72   89         103\n",
       "73   90          49\n",
       "74   91          72\n",
       "75   92          64\n",
       "\n",
       "[76 rows x 2 columns]"
      ]
     },
     "execution_count": 41,
     "metadata": {},
     "output_type": "execute_result"
    }
   ],
   "source": [
    "purchase_frequency"
   ]
  },
  {
   "cell_type": "code",
   "execution_count": 42,
   "metadata": {},
   "outputs": [
    {
     "data": {
      "image/png": "[encoded data removed]",
      "text/plain": [
       "<Figure size 432x288 with 1 Axes>"
      ]
     },
     "metadata": {
      "needs_background": "light"
     },
     "output_type": "display_data"
    },
    {
     "data": {
      "text/plain": [
       "<Figure size 432x288 with 0 Axes>"
      ]
     },
     "metadata": {},
     "output_type": "display_data"
    }
   ],
   "source": [
    "purchase_frequency\n",
    "x = purchase_frequency['age']\n",
    "y = purchase_frequency['session_id']\n",
    "plt.xlabel(\"client age\")\n",
    "plt.ylabel(\"purchase frequency\")\n",
    "plt.bar(x,y) \n",
    "plt.show()\n",
    "plt.savefig('Age vs Purchase Frequencey.png')"
   ]
  },
  {
   "cell_type": "markdown",
   "metadata": {},
   "source": [
    "## 3.4 Correlation Age VS Avergage basket size(in number of items)"
   ]
  },
  {
   "cell_type": "markdown",
   "metadata": {},
   "source": [
    "* Purpose: to see correlation between csutomer's age and number of item they buy(basket size)\n",
    "* Variable: age and id_prod, two quantitative variables\n",
    "* Method used: filter and aggregate variable with groupby , R^2 calculation with .corr and make visualization with scatter plot"
   ]
  },
  {
   "cell_type": "code",
   "execution_count": 43,
   "metadata": {},
   "outputs": [
    {
     "data": {
      "text/html": [
       "<div>\n",
       "<style scoped>\n",
       "    .dataframe tbody tr th:only-of-type {\n",
       "        vertical-align: middle;\n",
       "    }\n",
       "\n",
       "    .dataframe tbody tr th {\n",
       "        vertical-align: top;\n",
       "    }\n",
       "\n",
       "    .dataframe thead th {\n",
       "        text-align: right;\n",
       "    }\n",
       "</style>\n",
       "<table border=\"1\" class=\"dataframe\">\n",
       "  <thead>\n",
       "    <tr style=\"text-align: right;\">\n",
       "      <th></th>\n",
       "      <th>age</th>\n",
       "      <th>session_id</th>\n",
       "      <th>categ</th>\n",
       "    </tr>\n",
       "  </thead>\n",
       "  <tbody>\n",
       "    <tr>\n",
       "      <td>0</td>\n",
       "      <td>17</td>\n",
       "      <td>s_100056</td>\n",
       "      <td>1</td>\n",
       "    </tr>\n",
       "    <tr>\n",
       "      <td>1</td>\n",
       "      <td>17</td>\n",
       "      <td>s_100057</td>\n",
       "      <td>1</td>\n",
       "    </tr>\n",
       "    <tr>\n",
       "      <td>2</td>\n",
       "      <td>17</td>\n",
       "      <td>s_100084</td>\n",
       "      <td>1</td>\n",
       "    </tr>\n",
       "    <tr>\n",
       "      <td>3</td>\n",
       "      <td>17</td>\n",
       "      <td>s_100087</td>\n",
       "      <td>1</td>\n",
       "    </tr>\n",
       "    <tr>\n",
       "      <td>4</td>\n",
       "      <td>17</td>\n",
       "      <td>s_100148</td>\n",
       "      <td>1</td>\n",
       "    </tr>\n",
       "    <tr>\n",
       "      <td>...</td>\n",
       "      <td>...</td>\n",
       "      <td>...</td>\n",
       "      <td>...</td>\n",
       "    </tr>\n",
       "    <tr>\n",
       "      <td>169168</td>\n",
       "      <td>92</td>\n",
       "      <td>s_83514</td>\n",
       "      <td>1</td>\n",
       "    </tr>\n",
       "    <tr>\n",
       "      <td>169169</td>\n",
       "      <td>92</td>\n",
       "      <td>s_87562</td>\n",
       "      <td>4</td>\n",
       "    </tr>\n",
       "    <tr>\n",
       "      <td>169170</td>\n",
       "      <td>92</td>\n",
       "      <td>s_92980</td>\n",
       "      <td>1</td>\n",
       "    </tr>\n",
       "    <tr>\n",
       "      <td>169171</td>\n",
       "      <td>92</td>\n",
       "      <td>s_95446</td>\n",
       "      <td>2</td>\n",
       "    </tr>\n",
       "    <tr>\n",
       "      <td>169172</td>\n",
       "      <td>92</td>\n",
       "      <td>s_95746</td>\n",
       "      <td>5</td>\n",
       "    </tr>\n",
       "  </tbody>\n",
       "</table>\n",
       "<p>169173 rows × 3 columns</p>\n",
       "</div>"
      ],
      "text/plain": [
       "        age session_id  categ\n",
       "0        17   s_100056      1\n",
       "1        17   s_100057      1\n",
       "2        17   s_100084      1\n",
       "3        17   s_100087      1\n",
       "4        17   s_100148      1\n",
       "...     ...        ...    ...\n",
       "169168   92    s_83514      1\n",
       "169169   92    s_87562      4\n",
       "169170   92    s_92980      1\n",
       "169171   92    s_95446      2\n",
       "169172   92    s_95746      5\n",
       "\n",
       "[169173 rows x 3 columns]"
      ]
     },
     "execution_count": 43,
     "metadata": {},
     "output_type": "execute_result"
    }
   ],
   "source": [
    "average_basket_size= merged.groupby(['age','session_id'])['categ'].count()\n",
    "average_basket_size=average_basket_size.to_frame().reset_index()\n",
    "average_basket_size"
   ]
  },
  {
   "cell_type": "code",
   "execution_count": 44,
   "metadata": {},
   "outputs": [
    {
     "name": "stdout",
     "output_type": "stream",
     "text": [
      "Relatively weak negative relationship\n",
      "            age     categ\n",
      "age    1.000000 -0.177611\n",
      "categ -0.177611  1.000000\n"
     ]
    }
   ],
   "source": [
    "\n",
    "# How to interprete correlation : https://www.investopedia.com/ask/answers/041015/what-does-negative-correlation-coefficient-mean.asp#:~:text=A%20negative%20correlation%20can%20indicate,is%20the%20strongest%20relationship%20possible.\n",
    "print(\"Relatively weak negative relationship\")\n",
    "print(average_basket_size.corr(method='pearson'))"
   ]
  },
  {
   "cell_type": "code",
   "execution_count": 45,
   "metadata": {},
   "outputs": [
    {
     "data": {
      "text/html": [
       "<div>\n",
       "<style scoped>\n",
       "    .dataframe tbody tr th:only-of-type {\n",
       "        vertical-align: middle;\n",
       "    }\n",
       "\n",
       "    .dataframe tbody tr th {\n",
       "        vertical-align: top;\n",
       "    }\n",
       "\n",
       "    .dataframe thead th {\n",
       "        text-align: right;\n",
       "    }\n",
       "</style>\n",
       "<table border=\"1\" class=\"dataframe\">\n",
       "  <thead>\n",
       "    <tr style=\"text-align: right;\">\n",
       "      <th></th>\n",
       "      <th>age</th>\n",
       "      <th>session_id</th>\n",
       "      <th>categ</th>\n",
       "    </tr>\n",
       "  </thead>\n",
       "  <tbody>\n",
       "    <tr>\n",
       "      <td>0</td>\n",
       "      <td>17</td>\n",
       "      <td>s_100056</td>\n",
       "      <td>1</td>\n",
       "    </tr>\n",
       "    <tr>\n",
       "      <td>1</td>\n",
       "      <td>17</td>\n",
       "      <td>s_100057</td>\n",
       "      <td>1</td>\n",
       "    </tr>\n",
       "    <tr>\n",
       "      <td>2</td>\n",
       "      <td>17</td>\n",
       "      <td>s_100084</td>\n",
       "      <td>1</td>\n",
       "    </tr>\n",
       "    <tr>\n",
       "      <td>3</td>\n",
       "      <td>17</td>\n",
       "      <td>s_100087</td>\n",
       "      <td>1</td>\n",
       "    </tr>\n",
       "    <tr>\n",
       "      <td>4</td>\n",
       "      <td>17</td>\n",
       "      <td>s_100148</td>\n",
       "      <td>1</td>\n",
       "    </tr>\n",
       "    <tr>\n",
       "      <td>...</td>\n",
       "      <td>...</td>\n",
       "      <td>...</td>\n",
       "      <td>...</td>\n",
       "    </tr>\n",
       "    <tr>\n",
       "      <td>169168</td>\n",
       "      <td>92</td>\n",
       "      <td>s_83514</td>\n",
       "      <td>1</td>\n",
       "    </tr>\n",
       "    <tr>\n",
       "      <td>169169</td>\n",
       "      <td>92</td>\n",
       "      <td>s_87562</td>\n",
       "      <td>4</td>\n",
       "    </tr>\n",
       "    <tr>\n",
       "      <td>169170</td>\n",
       "      <td>92</td>\n",
       "      <td>s_92980</td>\n",
       "      <td>1</td>\n",
       "    </tr>\n",
       "    <tr>\n",
       "      <td>169171</td>\n",
       "      <td>92</td>\n",
       "      <td>s_95446</td>\n",
       "      <td>2</td>\n",
       "    </tr>\n",
       "    <tr>\n",
       "      <td>169172</td>\n",
       "      <td>92</td>\n",
       "      <td>s_95746</td>\n",
       "      <td>5</td>\n",
       "    </tr>\n",
       "  </tbody>\n",
       "</table>\n",
       "<p>169173 rows × 3 columns</p>\n",
       "</div>"
      ],
      "text/plain": [
       "        age session_id  categ\n",
       "0        17   s_100056      1\n",
       "1        17   s_100057      1\n",
       "2        17   s_100084      1\n",
       "3        17   s_100087      1\n",
       "4        17   s_100148      1\n",
       "...     ...        ...    ...\n",
       "169168   92    s_83514      1\n",
       "169169   92    s_87562      4\n",
       "169170   92    s_92980      1\n",
       "169171   92    s_95446      2\n",
       "169172   92    s_95746      5\n",
       "\n",
       "[169173 rows x 3 columns]"
      ]
     },
     "execution_count": 45,
     "metadata": {},
     "output_type": "execute_result"
    }
   ],
   "source": [
    "average_basket_size"
   ]
  },
  {
   "cell_type": "code",
   "execution_count": 46,
   "metadata": {},
   "outputs": [
    {
     "data": {
      "image/png": "[encoded data removed]",
      "text/plain": [
       "<Figure size 432x288 with 1 Axes>"
      ]
     },
     "metadata": {
      "needs_background": "light"
     },
     "output_type": "display_data"
    },
    {
     "data": {
      "text/plain": [
       "<Figure size 432x288 with 0 Axes>"
      ]
     },
     "metadata": {},
     "output_type": "display_data"
    }
   ],
   "source": [
    "average_basket_size\n",
    "x = average_basket_size['age']\n",
    "y = average_basket_size['categ']\n",
    "plt.xlabel(\"client age\")\n",
    "plt.ylabel(\"product category purchased\")\n",
    "plt.bar(x,y) \n",
    "plt.show()\n",
    "plt.savefig('Age vs Basket Size.png')"
   ]
  },
  {
   "cell_type": "markdown",
   "metadata": {},
   "source": [
    "## 3.5 Correlation Age VS Category of purchase produducts"
   ]
  },
  {
   "cell_type": "markdown",
   "metadata": {},
   "source": [
    "find correlation between age and category of purchase product: one quantitative and one qualitative variable using eta^2"
   ]
  },
  {
   "cell_type": "markdown",
   "metadata": {},
   "source": [
    "* Purpose: to see correlation between customer's age and category of purchased products\n",
    "* Variable: age and categ, one quantitative and one qualitative variable\n",
    "* Method used: filter and aggregate variable with groupby , ETA^2 calculation using formula"
   ]
  },
  {
   "cell_type": "code",
   "execution_count": 47,
   "metadata": {},
   "outputs": [],
   "source": [
    "age_vs_categ=merged[['age','categ']]"
   ]
  },
  {
   "cell_type": "code",
   "execution_count": 52,
   "metadata": {},
   "outputs": [
    {
     "name": "stdout",
     "output_type": "stream",
     "text": [
      "ETA squared is 0.11886832303683538\n",
      "We could say there is quite a high correlation between age and category of item they purchase. \n"
     ]
    }
   ],
   "source": [
    "X = \"categ\" # qualitative\n",
    "Y = \"age\" # quantitative\n",
    "\n",
    "sub_sample = age_vs_categ[age_vs_categ[\"age\"] > 0] \n",
    "\n",
    "def eta_squared(x,y):\n",
    "    mean_y = y.mean()\n",
    "    categories = []\n",
    "    for category in x.unique():\n",
    "        yi_category = y[x==category]\n",
    "        categories.append({'ni': len(yi_category),\n",
    "                        'mean_category': yi_category.mean()})\n",
    "    TSS = sum([(yj-mean_y)**2 for yj in y])\n",
    "    ESS = sum([c['ni']*(c['mean_category']-mean_y)**2 for c in categories])\n",
    "    return ESS/TSS\n",
    " \n",
    "print(\"ETA squared is \"+str(eta_squared(sub_sample['categ'],sub_sample['age'])))\n",
    "print(\"We could say there is quite a high correlation between age and category of item they purchase. \")"
   ]
  },
  {
   "cell_type": "code",
   "execution_count": 49,
   "metadata": {},
   "outputs": [
    {
     "data": {
      "text/plain": [
       "0.11886832303683538"
      ]
     },
     "execution_count": 49,
     "metadata": {},
     "output_type": "execute_result"
    }
   ],
   "source": [
    "X = \"categ\" # qualitative\n",
    "Y = \"age\" # quantitative\n",
    "\n",
    "sub_sample = age_vs_categ[age_vs_categ[\"age\"] > 0] # Only expenses are retained \n",
    "\n",
    "def eta_squared(x,y):\n",
    "    mean_y = y.mean()\n",
    "    categories = []\n",
    "    for category in x.unique():\n",
    "        yi_category = y[x==category]\n",
    "        categories.append({'ni': len(yi_category),\n",
    "                        'mean_category': yi_category.mean()})\n",
    "    TSS = sum([(yj-mean_y)**2 for yj in y])\n",
    "    ESS = sum([c['ni']*(c['mean_category']-mean_y)**2 for c in categories])\n",
    "    return ESS/TSS\n",
    " \n",
    "eta_squared(sub_sample[X],sub_sample[Y])\n"
   ]
  },
  {
   "cell_type": "code",
   "execution_count": 50,
   "metadata": {},
   "outputs": [
    {
     "name": "stdout",
     "output_type": "stream",
     "text": [
      "<class 'pandas.core.frame.DataFrame'>\n",
      "RangeIndex: 336713 entries, 0 to 336712\n",
      "Data columns (total 2 columns):\n",
      "age      336713 non-null int64\n",
      "categ    336713 non-null int64\n",
      "dtypes: int64(2)\n",
      "memory usage: 5.1 MB\n"
     ]
    }
   ],
   "source": [
    "age_vs_categ.info()\n"
   ]
  },
  {
   "cell_type": "code",
   "execution_count": 51,
   "metadata": {},
   "outputs": [
    {
     "data": {
      "image/png": "[encoded data removed]",
      "text/plain": [
       "<Figure size 432x288 with 1 Axes>"
      ]
     },
     "metadata": {
      "needs_background": "light"
     },
     "output_type": "display_data"
    },
    {
     "data": {
      "text/plain": [
       "<Figure size 432x288 with 0 Axes>"
      ]
     },
     "metadata": {},
     "output_type": "display_data"
    }
   ],
   "source": [
    "X = \"categ\" # qualitative\n",
    "Y = \"age\" # quantitative\n",
    "\n",
    "# Only age are retained\n",
    "sub_sample = age_vs_categ\n",
    "categories = age_vs_categ[X].unique()\n",
    "\n",
    "\n",
    "groups = []\n",
    "for m in categories:\n",
    "    groups.append(sub_sample[sub_sample[\"categ\"]==m][\"age\"])\n",
    "    \n",
    "# Graph properties (not very important)    \n",
    "medianprops = {'color':\"black\"}\n",
    "meanprops = {'marker':'o', 'markeredgecolor':'black',\n",
    "            'markerfacecolor':'firebrick'}\n",
    "            \n",
    "plt.boxplot(groups, labels=categories, showfliers=False, medianprops=medianprops, \n",
    "            vert=False, patch_artist=True, showmeans=True, meanprops=meanprops)\n",
    "plt.xlabel(\"client age\")\n",
    "plt.ylabel(\"product category purchased\")\n",
    "plt.show()\n",
    "plt.savefig('Age vs Product Category Purchased.png')"
   ]
  },
  {
   "cell_type": "code",
   "execution_count": null,
   "metadata": {},
   "outputs": [],
   "source": []
  },
  {
   "cell_type": "code",
   "execution_count": null,
   "metadata": {},
   "outputs": [],
   "source": []
  }
 ],
 "metadata": {
  "kernelspec": {
   "display_name": "Python 3",
   "language": "python",
   "name": "python3"
  },
  "language_info": {
   "codemirror_mode": {
    "name": "ipython",
    "version": 3
   },
   "file_extension": ".py",
   "mimetype": "text/x-python",
   "name": "python",
   "nbconvert_exporter": "python",
   "pygments_lexer": "ipython3",
   "version": "3.7.4"
  },
  "toc": {
   "base_numbering": 1,
   "nav_menu": {},
   "number_sections": false,
   "sideBar": true,
   "skip_h1_title": false,
   "title_cell": "Table of Contents",
   "title_sidebar": "Project 5",
   "toc_cell": true,
   "toc_position": {
    "height": "625.426px",
    "left": "43.983px",
    "top": "110.284px",
    "width": "164.988px"
   },
   "toc_section_display": true,
   "toc_window_display": true
  },
  "varInspector": {
   "cols": {
    "lenName": 16,
    "lenType": 16,
    "lenVar": 40
   },
   "kernels_config": {
    "python": {
     "delete_cmd_postfix": "",
     "delete_cmd_prefix": "del ",
     "library": "var_list.py",
     "varRefreshCmd": "print(var_dic_list())"
    },
    "r": {
     "delete_cmd_postfix": ") ",
     "delete_cmd_prefix": "rm(",
     "library": "var_list.r",
     "varRefreshCmd": "cat(var_dic_list()) "
    }
   },
   "types_to_exclude": [
    "module",
    "function",
    "builtin_function_or_method",
    "instance",
    "_Feature"
   ],
   "window_display": false
  }
 },
 "nbformat": 4,
 "nbformat_minor": 2
}
