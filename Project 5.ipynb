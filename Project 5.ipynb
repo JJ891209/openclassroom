{
 "cells": [
  {
   "cell_type": "markdown",
   "metadata": {
    "toc": true
   },
   "source": [
    "<h1>Table of Contents<span class=\"tocSkip\"></span></h1>\n",
    "<div class=\"toc\"><ul class=\"toc-item\"><li><span><a href=\"#Load-and-read-package-and-file\" data-toc-modified-id=\"Load-and-read-package-and-file-1\">Load and read package and file</a></span></li><li><span><a href=\"#Task1:-Cleaning-Data\" data-toc-modified-id=\"Task1:-Cleaning-Data-2\">Task1: Cleaning Data</a></span></li><li><span><a href=\"#Task2:-Analyze-data\" data-toc-modified-id=\"Task2:-Analyze-data-3\">Task2: Analyze data</a></span><ul class=\"toc-item\"><li><span><a href=\"#2.1:-Central-tendency-and-dispersion-check\" data-toc-modified-id=\"2.1:-Central-tendency-and-dispersion-check-3.1\">2.1: Central tendency and dispersion check</a></span></li><li><span><a href=\"#2.2:-Graphic-representations\" data-toc-modified-id=\"2.2:-Graphic-representations-3.2\">2.2: Graphic representations</a></span><ul class=\"toc-item\"><li><span><a href=\"#2.2.1:-Boxplot-Product-Category-VS-Price\" data-toc-modified-id=\"2.2.1:-Boxplot-Product-Category-VS-Price-3.2.1\">2.2.1: Boxplot Product Category VS Price</a></span></li><li><span><a href=\"#2.2.2:-Times-series-Month-VS-Transaction-Amount\" data-toc-modified-id=\"2.2.2:-Times-series-Month-VS-Transaction-Amount-3.2.2\">2.2.2: Times series Month VS Transaction Amount</a></span></li><li><span><a href=\"#2.2.3:-Bivariate-Analysis-Visualzation:-Age-VS-Price-of-item-purchased\" data-toc-modified-id=\"2.2.3:-Bivariate-Analysis-Visualzation:-Age-VS-Price-of-item-purchased-3.2.3\">2.2.3: Bivariate Analysis Visualzation: Age VS Price of item purchased</a></span></li></ul></li></ul></li><li><span><a href=\"#Task3:-Answering-questions\" data-toc-modified-id=\"Task3:-Answering-questions-4\">Task3: Answering questions</a></span><ul class=\"toc-item\"><li><span><a href=\"#3.1:-Is-there-a-correlation-between-gender-and-categories-of-products-purchased?\" data-toc-modified-id=\"3.1:-Is-there-a-correlation-between-gender-and-categories-of-products-purchased?-4.1\">3.1: Is there a correlation between gender and categories of products purchased?</a></span></li><li><span><a href=\"#3.2:-Correlation-Age-VS-Total-Amount-Purchase\" data-toc-modified-id=\"3.2:-Correlation-Age-VS-Total-Amount-Purchase-4.2\">3.2: Correlation Age VS Total Amount Purchase</a></span></li></ul></li></ul></div>"
   ]
  },
  {
   "cell_type": "markdown",
   "metadata": {},
   "source": [
    "# Load and read package and file"
   ]
  },
  {
   "cell_type": "code",
   "execution_count": 1,
   "metadata": {},
   "outputs": [],
   "source": [
    "import pandas as pd\n",
    "import numpy as np\n",
    "import matplotlib.pyplot as plt\n",
    "import seaborn as sns\n"
   ]
  },
  {
   "cell_type": "code",
   "execution_count": 2,
   "metadata": {},
   "outputs": [],
   "source": [
    "customers=pd.read_csv('customers.csv')\n",
    "products=pd.read_csv('products.csv')\n",
    "transactions=pd.read_csv('transactions.csv')\n",
    "\n"
   ]
  },
  {
   "cell_type": "markdown",
   "metadata": {},
   "source": [
    "# Task1: Cleaning Data \n",
    "\n",
    "Cleaning outliers and change format"
   ]
  },
  {
   "cell_type": "code",
   "execution_count": 3,
   "metadata": {},
   "outputs": [],
   "source": [
    "transactions['date'] = pd.to_datetime(transactions['date'], format='%Y-%m-%d %H:%M:%S.%f',errors='coerce')\n",
    "transactions['month'] = transactions['date'].dt.month\n",
    "customers['year']=int('2021')\n",
    "customers['age']=customers['year']-customers['birth']\n",
    "transactions.dropna(subset = [\"month\"], inplace=True)\n",
    "#products.isnull().sum()\n"
   ]
  },
  {
   "cell_type": "markdown",
   "metadata": {},
   "source": [
    "# Task2: Analyze data \n",
    "central tendency and disperson using lorenz curve and gini coefficient, graphic representations, bivariate analysis "
   ]
  },
  {
   "cell_type": "markdown",
   "metadata": {},
   "source": [
    "## 2.1: Central tendency and dispersion check "
   ]
  },
  {
   "cell_type": "code",
   "execution_count": 4,
   "metadata": {},
   "outputs": [
    {
     "data": {
      "text/plain": [
       "Text(46.99103560245854, 1367.415, 'Mean: 42.72')"
      ]
     },
     "execution_count": 4,
     "metadata": {},
     "output_type": "execute_result"
    },
    {
     "data": {
      "image/png": "[encoded data removed]",
      "text/plain": [
       "<Figure size 432x288 with 1 Axes>"
      ]
     },
     "metadata": {
      "needs_background": "light"
     },
     "output_type": "display_data"
    }
   ],
   "source": [
    "plt.hist(customers.age, bins = 10)\n",
    "plt.axvline(customers.age.mean(), color='k', linestyle='dashed', linewidth=1)\n",
    "min_ylim, max_ylim = plt.ylim()\n",
    "plt.text(customers.age.mean()*1.1, max_ylim*0.9, 'Mean: {:.2f}'.format(customers.age.mean()))\n"
   ]
  },
  {
   "cell_type": "code",
   "execution_count": 5,
   "metadata": {},
   "outputs": [
    {
     "data": {
      "text/plain": [
       "0.22598863728102248"
      ]
     },
     "execution_count": 5,
     "metadata": {},
     "output_type": "execute_result"
    }
   ],
   "source": [
    "age=customers.age.to_numpy()\n",
    "\n",
    "def gini(age):\n",
    "    ## first sort\n",
    "    sorted_arr = age.copy()\n",
    "    sorted_arr.sort()\n",
    "    n = age.size\n",
    "    coef_ = 2. / n\n",
    "    const_ = (n + 1.) / n\n",
    "    weighted_sum = sum([(i+1)*yi for i, yi in enumerate(sorted_arr)])\n",
    "    return coef_*weighted_sum/(sorted_arr.sum()) - const_\n",
    "\n",
    "gini(age)\n"
   ]
  },
  {
   "cell_type": "code",
   "execution_count": 6,
   "metadata": {},
   "outputs": [
    {
     "data": {
      "text/plain": [
       "[<matplotlib.lines.Line2D at 0x26dcc6ff0c8>]"
      ]
     },
     "execution_count": 6,
     "metadata": {},
     "output_type": "execute_result"
    },
    {
     "data": {
      "image/png": "[encoded data removed]",
      "text/plain": [
       "<Figure size 432x432 with 1 Axes>"
      ]
     },
     "metadata": {
      "needs_background": "light"
     },
     "output_type": "display_data"
    }
   ],
   "source": [
    "X_lorenz = age.cumsum() / age.sum()\n",
    "X_lorenz = np.insert(X_lorenz, 0, 0)\n",
    "X_lorenz[0], X_lorenz[-1]\n",
    "(0.0, 1.0)\n",
    "fig, ax = plt.subplots(figsize=[6,6])\n",
    "## scatter plot of Lorenz curve\n",
    "ax.scatter(np.arange(X_lorenz.size)/(X_lorenz.size-1), X_lorenz, \n",
    "           marker='x', color='darkgreen', s=100)\n",
    "## line plot of equality\n",
    "ax.plot([0,1], [0,1], color='k')"
   ]
  },
  {
   "cell_type": "markdown",
   "metadata": {},
   "source": [
    "## 2.2: Graphic representations"
   ]
  },
  {
   "cell_type": "markdown",
   "metadata": {},
   "source": [
    "### 2.2.1: Boxplot Product Category VS Price "
   ]
  },
  {
   "cell_type": "code",
   "execution_count": 7,
   "metadata": {},
   "outputs": [
    {
     "data": {
      "text/plain": [
       "<matplotlib.axes._subplots.AxesSubplot at 0x26dcc674a08>"
      ]
     },
     "execution_count": 7,
     "metadata": {},
     "output_type": "execute_result"
    },
    {
     "data": {
      "image/png": "[encoded data removed]",
      "text/plain": [
       "<Figure size 432x288 with 1 Axes>"
      ]
     },
     "metadata": {
      "needs_background": "light"
     },
     "output_type": "display_data"
    }
   ],
   "source": [
    "products.boxplot(by ='categ', column =['price'],showfliers=False, widths=(0.5, 0.5,0.5)) \n"
   ]
  },
  {
   "cell_type": "markdown",
   "metadata": {},
   "source": [
    "### 2.2.2: Times series Month VS Transaction Amount"
   ]
  },
  {
   "cell_type": "code",
   "execution_count": 8,
   "metadata": {},
   "outputs": [
    {
     "data": {
      "text/html": [
       "<div>\n",
       "<style scoped>\n",
       "    .dataframe tbody tr th:only-of-type {\n",
       "        vertical-align: middle;\n",
       "    }\n",
       "\n",
       "    .dataframe tbody tr th {\n",
       "        vertical-align: top;\n",
       "    }\n",
       "\n",
       "    .dataframe thead th {\n",
       "        text-align: right;\n",
       "    }\n",
       "</style>\n",
       "<table border=\"1\" class=\"dataframe\">\n",
       "  <thead>\n",
       "    <tr style=\"text-align: right;\">\n",
       "      <th></th>\n",
       "      <th>id_prod</th>\n",
       "      <th>date</th>\n",
       "      <th>session_id</th>\n",
       "      <th>client_id</th>\n",
       "      <th>month</th>\n",
       "    </tr>\n",
       "  </thead>\n",
       "  <tbody>\n",
       "    <tr>\n",
       "      <td>0</td>\n",
       "      <td>0_1483</td>\n",
       "      <td>2021-04-10 18:37:28.723910</td>\n",
       "      <td>s_18746</td>\n",
       "      <td>c_4450</td>\n",
       "      <td>4.0</td>\n",
       "    </tr>\n",
       "    <tr>\n",
       "      <td>1</td>\n",
       "      <td>2_226</td>\n",
       "      <td>2022-02-03 01:55:53.276402</td>\n",
       "      <td>s_159142</td>\n",
       "      <td>c_277</td>\n",
       "      <td>2.0</td>\n",
       "    </tr>\n",
       "    <tr>\n",
       "      <td>2</td>\n",
       "      <td>1_374</td>\n",
       "      <td>2021-09-23 15:13:46.938559</td>\n",
       "      <td>s_94290</td>\n",
       "      <td>c_4270</td>\n",
       "      <td>9.0</td>\n",
       "    </tr>\n",
       "    <tr>\n",
       "      <td>3</td>\n",
       "      <td>0_2186</td>\n",
       "      <td>2021-10-17 03:27:18.783634</td>\n",
       "      <td>s_105936</td>\n",
       "      <td>c_4597</td>\n",
       "      <td>10.0</td>\n",
       "    </tr>\n",
       "    <tr>\n",
       "      <td>4</td>\n",
       "      <td>0_1351</td>\n",
       "      <td>2021-07-17 20:34:25.800563</td>\n",
       "      <td>s_63642</td>\n",
       "      <td>c_1242</td>\n",
       "      <td>7.0</td>\n",
       "    </tr>\n",
       "  </tbody>\n",
       "</table>\n",
       "</div>"
      ],
      "text/plain": [
       "  id_prod                       date session_id client_id  month\n",
       "0  0_1483 2021-04-10 18:37:28.723910    s_18746    c_4450    4.0\n",
       "1   2_226 2022-02-03 01:55:53.276402   s_159142     c_277    2.0\n",
       "2   1_374 2021-09-23 15:13:46.938559    s_94290    c_4270    9.0\n",
       "3  0_2186 2021-10-17 03:27:18.783634   s_105936    c_4597   10.0\n",
       "4  0_1351 2021-07-17 20:34:25.800563    s_63642    c_1242    7.0"
      ]
     },
     "execution_count": 8,
     "metadata": {},
     "output_type": "execute_result"
    }
   ],
   "source": [
    "transactions.head()"
   ]
  },
  {
   "cell_type": "code",
   "execution_count": 9,
   "metadata": {},
   "outputs": [
    {
     "data": {
      "text/plain": [
       "([<matplotlib.axis.XTick at 0x26dcc82e6c8>,\n",
       "  <matplotlib.axis.XTick at 0x26dcc82acc8>,\n",
       "  <matplotlib.axis.XTick at 0x26dcc85be48>,\n",
       "  <matplotlib.axis.XTick at 0x26dcc867748>,\n",
       "  <matplotlib.axis.XTick at 0x26dcc86b148>,\n",
       "  <matplotlib.axis.XTick at 0x26dcc86ba88>,\n",
       "  <matplotlib.axis.XTick at 0x26dcc86f648>,\n",
       "  <matplotlib.axis.XTick at 0x26dcc82a948>,\n",
       "  <matplotlib.axis.XTick at 0x26dcc881988>,\n",
       "  <matplotlib.axis.XTick at 0x26dcc885208>,\n",
       "  <matplotlib.axis.XTick at 0x26dcc8859c8>,\n",
       "  <matplotlib.axis.XTick at 0x26dcc8812c8>],\n",
       " <a list of 12 Text xticklabel objects>)"
      ]
     },
     "execution_count": 9,
     "metadata": {},
     "output_type": "execute_result"
    },
    {
     "data": {
      "image/png": "[encoded data removed]",
      "text/plain": [
       "<Figure size 432x288 with 1 Axes>"
      ]
     },
     "metadata": {
      "needs_background": "light"
     },
     "output_type": "display_data"
    }
   ],
   "source": [
    "monthly_transactions=transactions.groupby('month')['session_id'].count()\n",
    "monthly_transactions = pd.DataFrame(monthly_transactions).reset_index()\n",
    "monthly_transactions['month'] = pd.to_datetime(monthly_transactions['month'].astype(str), format='%m.0')\n",
    "monthly_transactions['month']= monthly_transactions['month'].dt.month\n",
    "monthly_transactions.set_index('month',inplace=True)\n",
    "\n",
    "# Plot the time series in your DataFrame as a blue area chart\n",
    "ax = monthly_transactions.plot(color='blue', fontsize=15)\n",
    "plt.xticks(np.arange(1, 13, 1.0))\n"
   ]
  },
  {
   "cell_type": "markdown",
   "metadata": {},
   "source": [
    "### 2.2.3: Bivariate Analysis Visualzation: Age VS Price of item purchased"
   ]
  },
  {
   "cell_type": "code",
   "execution_count": 10,
   "metadata": {},
   "outputs": [
    {
     "data": {
      "text/html": [
       "<div>\n",
       "<style scoped>\n",
       "    .dataframe tbody tr th:only-of-type {\n",
       "        vertical-align: middle;\n",
       "    }\n",
       "\n",
       "    .dataframe tbody tr th {\n",
       "        vertical-align: top;\n",
       "    }\n",
       "\n",
       "    .dataframe thead th {\n",
       "        text-align: right;\n",
       "    }\n",
       "</style>\n",
       "<table border=\"1\" class=\"dataframe\">\n",
       "  <thead>\n",
       "    <tr style=\"text-align: right;\">\n",
       "      <th></th>\n",
       "      <th>index</th>\n",
       "      <th>client_id</th>\n",
       "      <th>sex</th>\n",
       "      <th>birth</th>\n",
       "      <th>year</th>\n",
       "      <th>age</th>\n",
       "      <th>id_prod</th>\n",
       "      <th>date</th>\n",
       "      <th>session_id</th>\n",
       "      <th>month</th>\n",
       "      <th>price</th>\n",
       "      <th>categ</th>\n",
       "    </tr>\n",
       "  </thead>\n",
       "  <tbody>\n",
       "    <tr>\n",
       "      <td>0</td>\n",
       "      <td>0</td>\n",
       "      <td>c_4410</td>\n",
       "      <td>f</td>\n",
       "      <td>1967</td>\n",
       "      <td>2021</td>\n",
       "      <td>54</td>\n",
       "      <td>0_1420</td>\n",
       "      <td>2021-03-22 22:31:25.825764</td>\n",
       "      <td>s_10092</td>\n",
       "      <td>3.0</td>\n",
       "      <td>11.53</td>\n",
       "      <td>0</td>\n",
       "    </tr>\n",
       "    <tr>\n",
       "      <td>1</td>\n",
       "      <td>1</td>\n",
       "      <td>c_4410</td>\n",
       "      <td>f</td>\n",
       "      <td>1967</td>\n",
       "      <td>2021</td>\n",
       "      <td>54</td>\n",
       "      <td>0_1390</td>\n",
       "      <td>2021-09-24 23:35:40.652636</td>\n",
       "      <td>s_94984</td>\n",
       "      <td>9.0</td>\n",
       "      <td>19.37</td>\n",
       "      <td>0</td>\n",
       "    </tr>\n",
       "    <tr>\n",
       "      <td>2</td>\n",
       "      <td>2</td>\n",
       "      <td>c_4410</td>\n",
       "      <td>f</td>\n",
       "      <td>1967</td>\n",
       "      <td>2021</td>\n",
       "      <td>54</td>\n",
       "      <td>1_483</td>\n",
       "      <td>2021-03-13 21:35:55.949042</td>\n",
       "      <td>s_5913</td>\n",
       "      <td>3.0</td>\n",
       "      <td>15.99</td>\n",
       "      <td>1</td>\n",
       "    </tr>\n",
       "    <tr>\n",
       "      <td>3</td>\n",
       "      <td>3</td>\n",
       "      <td>c_4410</td>\n",
       "      <td>f</td>\n",
       "      <td>1967</td>\n",
       "      <td>2021</td>\n",
       "      <td>54</td>\n",
       "      <td>1_267</td>\n",
       "      <td>2021-09-24 23:15:59.919591</td>\n",
       "      <td>s_94984</td>\n",
       "      <td>9.0</td>\n",
       "      <td>27.99</td>\n",
       "      <td>1</td>\n",
       "    </tr>\n",
       "    <tr>\n",
       "      <td>4</td>\n",
       "      <td>4</td>\n",
       "      <td>c_4410</td>\n",
       "      <td>f</td>\n",
       "      <td>1967</td>\n",
       "      <td>2021</td>\n",
       "      <td>54</td>\n",
       "      <td>1_395</td>\n",
       "      <td>2021-09-24 23:57:35.138518</td>\n",
       "      <td>s_94984</td>\n",
       "      <td>9.0</td>\n",
       "      <td>28.99</td>\n",
       "      <td>1</td>\n",
       "    </tr>\n",
       "    <tr>\n",
       "      <td>...</td>\n",
       "      <td>...</td>\n",
       "      <td>...</td>\n",
       "      <td>...</td>\n",
       "      <td>...</td>\n",
       "      <td>...</td>\n",
       "      <td>...</td>\n",
       "      <td>...</td>\n",
       "      <td>...</td>\n",
       "      <td>...</td>\n",
       "      <td>...</td>\n",
       "      <td>...</td>\n",
       "      <td>...</td>\n",
       "    </tr>\n",
       "    <tr>\n",
       "      <td>336708</td>\n",
       "      <td>336708</td>\n",
       "      <td>c_84</td>\n",
       "      <td>f</td>\n",
       "      <td>1982</td>\n",
       "      <td>2021</td>\n",
       "      <td>39</td>\n",
       "      <td>0_1113</td>\n",
       "      <td>2021-04-13 04:10:27.679097</td>\n",
       "      <td>s_19845</td>\n",
       "      <td>4.0</td>\n",
       "      <td>16.99</td>\n",
       "      <td>0</td>\n",
       "    </tr>\n",
       "    <tr>\n",
       "      <td>336709</td>\n",
       "      <td>336709</td>\n",
       "      <td>c_84</td>\n",
       "      <td>f</td>\n",
       "      <td>1982</td>\n",
       "      <td>2021</td>\n",
       "      <td>39</td>\n",
       "      <td>0_1525</td>\n",
       "      <td>2021-10-21 03:58:28.880240</td>\n",
       "      <td>s_107849</td>\n",
       "      <td>10.0</td>\n",
       "      <td>6.99</td>\n",
       "      <td>0</td>\n",
       "    </tr>\n",
       "    <tr>\n",
       "      <td>336710</td>\n",
       "      <td>336710</td>\n",
       "      <td>c_84</td>\n",
       "      <td>f</td>\n",
       "      <td>1982</td>\n",
       "      <td>2021</td>\n",
       "      <td>39</td>\n",
       "      <td>0_1017</td>\n",
       "      <td>2021-09-13 21:40:46.038481</td>\n",
       "      <td>s_89478</td>\n",
       "      <td>9.0</td>\n",
       "      <td>8.99</td>\n",
       "      <td>0</td>\n",
       "    </tr>\n",
       "    <tr>\n",
       "      <td>336711</td>\n",
       "      <td>336711</td>\n",
       "      <td>c_84</td>\n",
       "      <td>f</td>\n",
       "      <td>1982</td>\n",
       "      <td>2021</td>\n",
       "      <td>39</td>\n",
       "      <td>1_158</td>\n",
       "      <td>2021-10-01 16:11:20.841361</td>\n",
       "      <td>s_98493</td>\n",
       "      <td>10.0</td>\n",
       "      <td>22.17</td>\n",
       "      <td>1</td>\n",
       "    </tr>\n",
       "    <tr>\n",
       "      <td>336712</td>\n",
       "      <td>336712</td>\n",
       "      <td>c_84</td>\n",
       "      <td>f</td>\n",
       "      <td>1982</td>\n",
       "      <td>2021</td>\n",
       "      <td>39</td>\n",
       "      <td>1_110</td>\n",
       "      <td>2021-09-13 21:39:46.845376</td>\n",
       "      <td>s_89478</td>\n",
       "      <td>9.0</td>\n",
       "      <td>54.90</td>\n",
       "      <td>1</td>\n",
       "    </tr>\n",
       "  </tbody>\n",
       "</table>\n",
       "<p>336713 rows × 12 columns</p>\n",
       "</div>"
      ],
      "text/plain": [
       "         index client_id sex  birth  year  age id_prod  \\\n",
       "0            0    c_4410   f   1967  2021   54  0_1420   \n",
       "1            1    c_4410   f   1967  2021   54  0_1390   \n",
       "2            2    c_4410   f   1967  2021   54   1_483   \n",
       "3            3    c_4410   f   1967  2021   54   1_267   \n",
       "4            4    c_4410   f   1967  2021   54   1_395   \n",
       "...        ...       ...  ..    ...   ...  ...     ...   \n",
       "336708  336708      c_84   f   1982  2021   39  0_1113   \n",
       "336709  336709      c_84   f   1982  2021   39  0_1525   \n",
       "336710  336710      c_84   f   1982  2021   39  0_1017   \n",
       "336711  336711      c_84   f   1982  2021   39   1_158   \n",
       "336712  336712      c_84   f   1982  2021   39   1_110   \n",
       "\n",
       "                             date session_id  month  price  categ  \n",
       "0      2021-03-22 22:31:25.825764    s_10092    3.0  11.53      0  \n",
       "1      2021-09-24 23:35:40.652636    s_94984    9.0  19.37      0  \n",
       "2      2021-03-13 21:35:55.949042     s_5913    3.0  15.99      1  \n",
       "3      2021-09-24 23:15:59.919591    s_94984    9.0  27.99      1  \n",
       "4      2021-09-24 23:57:35.138518    s_94984    9.0  28.99      1  \n",
       "...                           ...        ...    ...    ...    ...  \n",
       "336708 2021-04-13 04:10:27.679097    s_19845    4.0  16.99      0  \n",
       "336709 2021-10-21 03:58:28.880240   s_107849   10.0   6.99      0  \n",
       "336710 2021-09-13 21:40:46.038481    s_89478    9.0   8.99      0  \n",
       "336711 2021-10-01 16:11:20.841361    s_98493   10.0  22.17      1  \n",
       "336712 2021-09-13 21:39:46.845376    s_89478    9.0  54.90      1  \n",
       "\n",
       "[336713 rows x 12 columns]"
      ]
     },
     "execution_count": 10,
     "metadata": {},
     "output_type": "execute_result"
    }
   ],
   "source": [
    "transactions_products_info=pd.merge(transactions,products,on='id_prod')\n",
    "merged=pd.merge(customers,transactions_products_info,on='client_id')\n",
    "merged=merged.fillna(0)\n",
    "merged=merged.reset_index()\n",
    "merged"
   ]
  },
  {
   "cell_type": "code",
   "execution_count": 11,
   "metadata": {},
   "outputs": [
    {
     "data": {
      "image/png": "[encoded data removed]",
      "text/plain": [
       "<Figure size 720x432 with 1 Axes>"
      ]
     },
     "metadata": {
      "needs_background": "light"
     },
     "output_type": "display_data"
    }
   ],
   "source": [
    "fig, ax = plt.subplots(figsize=(10, 6))\n",
    "ax.scatter(x = merged['age'], y = merged['price'])\n",
    "plt.xlabel(\"Age\")\n",
    "plt.ylabel(\"Price of item purchased\")\n",
    "plt.show()"
   ]
  },
  {
   "cell_type": "markdown",
   "metadata": {},
   "source": [
    "# Task3: Answering questions"
   ]
  },
  {
   "cell_type": "markdown",
   "metadata": {},
   "source": [
    "## 3.1: Is there a correlation between gender and categories of products purchased?"
   ]
  },
  {
   "cell_type": "code",
   "execution_count": 12,
   "metadata": {},
   "outputs": [
    {
     "data": {
      "text/html": [
       "<div>\n",
       "<style scoped>\n",
       "    .dataframe tbody tr th:only-of-type {\n",
       "        vertical-align: middle;\n",
       "    }\n",
       "\n",
       "    .dataframe tbody tr th {\n",
       "        vertical-align: top;\n",
       "    }\n",
       "\n",
       "    .dataframe thead th {\n",
       "        text-align: right;\n",
       "    }\n",
       "</style>\n",
       "<table border=\"1\" class=\"dataframe\">\n",
       "  <thead>\n",
       "    <tr style=\"text-align: right;\">\n",
       "      <th></th>\n",
       "      <th>categ</th>\n",
       "      <th>f</th>\n",
       "      <th>m</th>\n",
       "    </tr>\n",
       "  </thead>\n",
       "  <tbody>\n",
       "    <tr>\n",
       "      <td>0</td>\n",
       "      <td>0</td>\n",
       "      <td>1</td>\n",
       "      <td>0</td>\n",
       "    </tr>\n",
       "    <tr>\n",
       "      <td>1</td>\n",
       "      <td>0</td>\n",
       "      <td>1</td>\n",
       "      <td>0</td>\n",
       "    </tr>\n",
       "    <tr>\n",
       "      <td>2</td>\n",
       "      <td>1</td>\n",
       "      <td>1</td>\n",
       "      <td>0</td>\n",
       "    </tr>\n",
       "    <tr>\n",
       "      <td>3</td>\n",
       "      <td>1</td>\n",
       "      <td>1</td>\n",
       "      <td>0</td>\n",
       "    </tr>\n",
       "    <tr>\n",
       "      <td>4</td>\n",
       "      <td>1</td>\n",
       "      <td>1</td>\n",
       "      <td>0</td>\n",
       "    </tr>\n",
       "  </tbody>\n",
       "</table>\n",
       "</div>"
      ],
      "text/plain": [
       "   categ  f  m\n",
       "0      0  1  0\n",
       "1      0  1  0\n",
       "2      1  1  0\n",
       "3      1  1  0\n",
       "4      1  1  0"
      ]
     },
     "execution_count": 12,
     "metadata": {},
     "output_type": "execute_result"
    }
   ],
   "source": [
    "# two qualitative variables on hands- use contingency table calculation\n",
    "\n",
    "#from sklearn.metrics import r2_score\n",
    "#from scipy import stats\n",
    "#merged['sex'] = merged['sex'].astype(int)\n",
    "#s = pd.Series(merged.sex)\n",
    "#sex_dummies=pd.get_dummies(s)\n",
    "#sex_dummies\n",
    "#sex_category= pd.concat([merged, sex_dummies], axis = 1)\n",
    "#sex_category = sex_category[[\"categ\", \"f\",\"m\"]]\n",
    "#sex_category.head()\n"
   ]
  },
  {
   "cell_type": "code",
   "execution_count": 71,
   "metadata": {},
   "outputs": [
    {
     "data": {
      "text/html": [
       "<div>\n",
       "<style scoped>\n",
       "    .dataframe tbody tr th:only-of-type {\n",
       "        vertical-align: middle;\n",
       "    }\n",
       "\n",
       "    .dataframe tbody tr th {\n",
       "        vertical-align: top;\n",
       "    }\n",
       "\n",
       "    .dataframe thead th {\n",
       "        text-align: right;\n",
       "    }\n",
       "</style>\n",
       "<table border=\"1\" class=\"dataframe\">\n",
       "  <thead>\n",
       "    <tr style=\"text-align: right;\">\n",
       "      <th>sex</th>\n",
       "      <th>f</th>\n",
       "      <th>m</th>\n",
       "    </tr>\n",
       "    <tr>\n",
       "      <th>categ</th>\n",
       "      <th></th>\n",
       "      <th></th>\n",
       "    </tr>\n",
       "  </thead>\n",
       "  <tbody>\n",
       "    <tr>\n",
       "      <td>0</td>\n",
       "      <td>103786</td>\n",
       "      <td>105640</td>\n",
       "    </tr>\n",
       "    <tr>\n",
       "      <td>1</td>\n",
       "      <td>55469</td>\n",
       "      <td>54266</td>\n",
       "    </tr>\n",
       "    <tr>\n",
       "      <td>2</td>\n",
       "      <td>8260</td>\n",
       "      <td>9292</td>\n",
       "    </tr>\n",
       "  </tbody>\n",
       "</table>\n",
       "</div>"
      ],
      "text/plain": [
       "sex         f       m\n",
       "categ                \n",
       "0      103786  105640\n",
       "1       55469   54266\n",
       "2        8260    9292"
      ]
     },
     "execution_count": 71,
     "metadata": {},
     "output_type": "execute_result"
    }
   ],
   "source": [
    "#https://aaronschlegel.me/chi-square-test-independence-contingency-tables.html\n",
    "\n",
    "from sklearn.metrics import r2_score\n",
    "from scipy import stats\n",
    "from functools import reduce\n",
    "X = \"categ\"\n",
    "Y = \"sex\"\n",
    "observation = merged[['categ','sex']].pivot_table(index=X,columns=Y,aggfunc=len,margins=True,margins_name=\"Total\")\n",
    "observation=observation.reset_index()\n",
    "observation=observation.set_index('categ')\n",
    "\n",
    "observation = observation[['f', 'm']]\n",
    "observation=observation.iloc[0:3]\n",
    "\n",
    "observation"
   ]
  },
  {
   "cell_type": "code",
   "execution_count": 72,
   "metadata": {},
   "outputs": [
    {
     "data": {
      "text/plain": [
       "array([[ 1.563511  ,  1.54795888],\n",
       "       [14.0480737 , 13.90833855],\n",
       "       [25.5276867 , 25.27376469]])"
      ]
     },
     "execution_count": 72,
     "metadata": {},
     "output_type": "execute_result"
    }
   ],
   "source": [
    "observation = observation.to_numpy()\n",
    "observation\n",
    "c = np.apply_over_axes(np.sum, observation, 0) # column totals of observations table\n",
    "r = np.apply_over_axes(np.sum, observation, 1) # row totals of observations table\n",
    "exp_freq = reduce(np.multiply, (r, c)) / np.sum(observation)\n",
    "cont_table = np.absolute(observation - exp_freq)\n",
    "cont_table= cont_table ** 2 / exp_freq\n",
    "cont_table"
   ]
  },
  {
   "cell_type": "code",
   "execution_count": 82,
   "metadata": {},
   "outputs": [
    {
     "data": {
      "image/png": "[encoded data removed]",
      "text/plain": [
       "<Figure size 432x288 with 2 Axes>"
      ]
     },
     "metadata": {
      "needs_background": "light"
     },
     "output_type": "display_data"
    }
   ],
   "source": [
    "cont_table=pd.DataFrame(cont_table)\n",
    "cont_table=cont_table.rename(columns={0: 'F', 1: 'M'})\n",
    "xi_n = cont_table.sum().sum()\n",
    "sns.heatmap(cont_table/xi_n,annot=cont_table)\n",
    "plt.show()\n",
    "\n"
   ]
  },
  {
   "cell_type": "markdown",
   "metadata": {},
   "source": [
    "## 3.2: Correlation Age VS Total Amount Purchase"
   ]
  },
  {
   "cell_type": "code",
   "execution_count": 84,
   "metadata": {},
   "outputs": [
    {
     "data": {
      "text/html": [
       "<div>\n",
       "<style scoped>\n",
       "    .dataframe tbody tr th:only-of-type {\n",
       "        vertical-align: middle;\n",
       "    }\n",
       "\n",
       "    .dataframe tbody tr th {\n",
       "        vertical-align: top;\n",
       "    }\n",
       "\n",
       "    .dataframe thead th {\n",
       "        text-align: right;\n",
       "    }\n",
       "</style>\n",
       "<table border=\"1\" class=\"dataframe\">\n",
       "  <thead>\n",
       "    <tr style=\"text-align: right;\">\n",
       "      <th></th>\n",
       "      <th>age</th>\n",
       "      <th>price</th>\n",
       "    </tr>\n",
       "  </thead>\n",
       "  <tbody>\n",
       "    <tr>\n",
       "      <td>age</td>\n",
       "      <td>1.000000</td>\n",
       "      <td>-0.774658</td>\n",
       "    </tr>\n",
       "    <tr>\n",
       "      <td>price</td>\n",
       "      <td>-0.774658</td>\n",
       "      <td>1.000000</td>\n",
       "    </tr>\n",
       "  </tbody>\n",
       "</table>\n",
       "</div>"
      ],
      "text/plain": [
       "            age     price\n",
       "age    1.000000 -0.774658\n",
       "price -0.774658  1.000000"
      ]
     },
     "execution_count": 84,
     "metadata": {},
     "output_type": "execute_result"
    }
   ],
   "source": [
    "## two quantitative variables \n",
    "\n",
    "total_amount_purchase=merged.groupby('age')['price'].sum()\n",
    "purchase_frequency=merged.groupby('age')['month'].count()\n",
    "average_basket_size=merged.groupby('age')['categ'].count()\n",
    "category_purchased_products=merged.groupby(['age', 'categ'])['session_id'].count()\n",
    "total_amount_purchase=total_amount_purchase.to_frame().reset_index()\n",
    "total_amount_purchase.corr()"
   ]
  },
  {
   "cell_type": "code",
   "execution_count": null,
   "metadata": {},
   "outputs": [],
   "source": []
  },
  {
   "cell_type": "code",
   "execution_count": null,
   "metadata": {},
   "outputs": [],
   "source": [
    "purchase_frequency=purchase_frequency.to_frame().reset_index()\n",
    "purchase_frequency.corr()\n",
    "average_basket_size=average_basket_size.to_frame().reset_index()\n",
    "average_basket_size.corr()\n",
    "category_purchased_products=category_purchased_products.to_frame().reset_index()\n",
    "category_purchased_products = category_purchased_products.rename(columns={'session_id': 'categ_count'})\n",
    "category_purchased_products"
   ]
  },
  {
   "cell_type": "code",
   "execution_count": null,
   "metadata": {},
   "outputs": [],
   "source": []
  },
  {
   "cell_type": "code",
   "execution_count": null,
   "metadata": {},
   "outputs": [],
   "source": [
    "##linear regression with categorical variables python\n",
    "##correlation example https://www.vertica.com/blog/in-database-machine-learning-2-calculate-a-correlation-matrix-a-data-exploration-post/"
   ]
  },
  {
   "cell_type": "code",
   "execution_count": null,
   "metadata": {},
   "outputs": [],
   "source": [
    "# R^2\n",
    "corr=merged.corr('pearson') \n",
    "corr\n",
    "x_age=np.array(merged.sex)\n",
    "y_category=np.array(merged.categ)\n",
    "correlation_matrix = np.corrcoef(x_age, y_category)\n"
   ]
  },
  {
   "cell_type": "code",
   "execution_count": null,
   "metadata": {},
   "outputs": [],
   "source": [
    "correlation_xy = correlation_matrix[0,1]\n",
    "r_squared = correlation_xy**2\n",
    "\n",
    "print(r_squared)"
   ]
  }
 ],
 "metadata": {
  "kernelspec": {
   "display_name": "Python 3",
   "language": "python",
   "name": "python3"
  },
  "language_info": {
   "codemirror_mode": {
    "name": "ipython",
    "version": 3
   },
   "file_extension": ".py",
   "mimetype": "text/x-python",
   "name": "python",
   "nbconvert_exporter": "python",
   "pygments_lexer": "ipython3",
   "version": "3.7.4"
  },
  "toc": {
   "base_numbering": 1,
   "nav_menu": {},
   "number_sections": false,
   "sideBar": true,
   "skip_h1_title": false,
   "title_cell": "Table of Contents",
   "title_sidebar": "Project 5",
   "toc_cell": true,
   "toc_position": {},
   "toc_section_display": true,
   "toc_window_display": true
  },
  "varInspector": {
   "cols": {
    "lenName": 16,
    "lenType": 16,
    "lenVar": 40
   },
   "kernels_config": {
    "python": {
     "delete_cmd_postfix": "",
     "delete_cmd_prefix": "del ",
     "library": "var_list.py",
     "varRefreshCmd": "print(var_dic_list())"
    },
    "r": {
     "delete_cmd_postfix": ") ",
     "delete_cmd_prefix": "rm(",
     "library": "var_list.r",
     "varRefreshCmd": "cat(var_dic_list()) "
    }
   },
   "types_to_exclude": [
    "module",
    "function",
    "builtin_function_or_method",
    "instance",
    "_Feature"
   ],
   "window_display": false
  }
 },
 "nbformat": 4,
 "nbformat_minor": 2
}
